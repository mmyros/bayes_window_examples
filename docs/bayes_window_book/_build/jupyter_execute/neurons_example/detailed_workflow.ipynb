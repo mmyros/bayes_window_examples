{
 "cells": [
  {
   "cell_type": "markdown",
   "metadata": {
    "hideCode": false,
    "hidePrompt": false
   },
   "source": [
    "# Neurons example via low-level, flexible interface\n",
    "## Prepare"
   ]
  },
  {
   "cell_type": "code",
   "execution_count": 1,
   "metadata": {
    "hideCode": false,
    "hidePrompt": false,
    "lines_to_next_cell": 2
   },
   "outputs": [],
   "source": [
    "from bayes_window import models\n",
    "from bayes_window.fitting import fit_numpyro\n",
    "from bayes_window.generative_models import generate_fake_spikes\n",
    "import numpy as np\n",
    "from sklearn.preprocessing import LabelEncoder\n",
    "\n",
    "trans = LabelEncoder().fit_transform"
   ]
  },
  {
   "cell_type": "markdown",
   "metadata": {
    "hideCode": false,
    "hidePrompt": false
   },
   "source": [
    "## Make some data\n"
   ]
  },
  {
   "cell_type": "code",
   "execution_count": 2,
   "metadata": {
    "hideCode": false,
    "hidePrompt": false
   },
   "outputs": [
    {
     "data": {
      "text/html": [
       "\n",
       "<div id=\"altair-viz-1b88f37271ea4d6a83001e09ae8d6fd9\"></div>\n",
       "<script type=\"text/javascript\">\n",
       "  (function(spec, embedOpt){\n",
       "    let outputDiv = document.currentScript.previousElementSibling;\n",
       "    if (outputDiv.id !== \"altair-viz-1b88f37271ea4d6a83001e09ae8d6fd9\") {\n",
       "      outputDiv = document.getElementById(\"altair-viz-1b88f37271ea4d6a83001e09ae8d6fd9\");\n",
       "    }\n",
       "    const paths = {\n",
       "      \"vega\": \"https://cdn.jsdelivr.net/npm//vega@5?noext\",\n",
       "      \"vega-lib\": \"https://cdn.jsdelivr.net/npm//vega-lib?noext\",\n",
       "      \"vega-lite\": \"https://cdn.jsdelivr.net/npm//vega-lite@4.8.1?noext\",\n",
       "      \"vega-embed\": \"https://cdn.jsdelivr.net/npm//vega-embed@6?noext\",\n",
       "    };\n",
       "\n",
       "    function loadScript(lib) {\n",
       "      return new Promise(function(resolve, reject) {\n",
       "        var s = document.createElement('script');\n",
       "        s.src = paths[lib];\n",
       "        s.async = true;\n",
       "        s.onload = () => resolve(paths[lib]);\n",
       "        s.onerror = () => reject(`Error loading script: ${paths[lib]}`);\n",
       "        document.getElementsByTagName(\"head\")[0].appendChild(s);\n",
       "      });\n",
       "    }\n",
       "\n",
       "    function showError(err) {\n",
       "      outputDiv.innerHTML = `<div class=\"error\" style=\"color:red;\">${err}</div>`;\n",
       "      throw err;\n",
       "    }\n",
       "\n",
       "    function displayChart(vegaEmbed) {\n",
       "      vegaEmbed(outputDiv, spec, embedOpt)\n",
       "        .catch(err => showError(`Javascript Error: ${err.message}<br>This usually means there's a typo in your chart specification. See the javascript console for the full traceback.`));\n",
       "    }\n",
       "\n",
       "    if(typeof define === \"function\" && define.amd) {\n",
       "      requirejs.config({paths});\n",
       "      require([\"vega-embed\"], displayChart, err => showError(`Error loading script: ${err.message}`));\n",
       "    } else if (typeof vegaEmbed === \"function\") {\n",
       "      displayChart(vegaEmbed);\n",
       "    } else {\n",
       "      loadScript(\"vega\")\n",
       "        .then(() => loadScript(\"vega-lite\"))\n",
       "        .then(() => loadScript(\"vega-embed\"))\n",
       "        .catch(showError)\n",
       "        .then(() => displayChart(vegaEmbed));\n",
       "    }\n",
       "  })({\"config\": {\"view\": {\"continuousWidth\": 400, \"continuousHeight\": 300}}, \"layer\": [{\"mark\": {\"type\": \"line\", \"clip\": true, \"fill\": null, \"opacity\": 0.8}, \"encoding\": {\"color\": {\"type\": \"nominal\", \"field\": \"mouse\"}, \"detail\": {\"type\": \"ordinal\", \"field\": \"\"}, \"size\": {\"value\": 1.0}, \"x\": {\"type\": \"ordinal\", \"field\": \"neuron\"}, \"y\": {\"type\": \"quantitative\", \"aggregate\": \"mean\", \"axis\": {\"orient\": \"right\"}, \"field\": \"isi diff\", \"scale\": {\"domain\": [0.7197529724922022, 1.0701376569481593], \"zero\": false}, \"title\": \"isi diff\"}}}, {\"mark\": {\"type\": \"circle\", \"clip\": true, \"filled\": true, \"opacity\": 0}, \"encoding\": {\"color\": {\"type\": \"nominal\", \"field\": \"mouse\"}, \"detail\": {\"type\": \"ordinal\", \"field\": \"\"}, \"x\": {\"type\": \"ordinal\", \"field\": \"neuron\"}, \"y\": {\"type\": \"quantitative\", \"aggregate\": \"mean\", \"axis\": {\"orient\": \"right\", \"title\": \"\"}, \"field\": \"isi diff\", \"scale\": {\"domain\": [0.7197529724922022, 1.0701376569481593], \"zero\": false}}}}, {\"mark\": {\"type\": \"boxplot\", \"clip\": true, \"color\": \"black\", \"median\": {\"color\": \"red\", \"strokeWidth\": 20}, \"opacity\": 0.3, \"size\": 9}, \"encoding\": {\"x\": {\"type\": \"ordinal\", \"field\": \"neuron\"}, \"y\": {\"type\": \"quantitative\", \"axis\": {\"orient\": \"right\", \"title\": \"\"}, \"field\": \"isi diff\", \"scale\": {\"domain\": [0.7197529724922022, 1.0701376569481593], \"zero\": false}}}}], \"data\": {\"name\": \"data-53b4f0ada92fd4bd0a4e18d4e53e2f73\"}, \"$schema\": \"https://vega.github.io/schema/vega-lite/v4.8.1.json\", \"datasets\": {\"data-53b4f0ada92fd4bd0a4e18d4e53e2f73\": [{\"mouse\": \"m0bayes\", \"neuron\": \"0\", \"isi diff\": 0.8259362459592434}, {\"mouse\": \"m0bayes\", \"neuron\": \"1\", \"isi diff\": 0.9678518930936902}, {\"mouse\": \"m0bayes\", \"neuron\": \"2\", \"isi diff\": 1.0061399791646848}, {\"mouse\": \"m0bayes\", \"neuron\": \"3\", \"isi diff\": 1.015689400917863}, {\"mouse\": \"m0bayes\", \"neuron\": \"4\", \"isi diff\": 0.9010364526867075}, {\"mouse\": \"m0bayes\", \"neuron\": \"5\", \"isi diff\": 0.8270970176715582}, {\"mouse\": \"m0bayes\", \"neuron\": \"6\", \"isi diff\": 0.9819205623495323}, {\"mouse\": \"m0bayes\", \"neuron\": \"7\", \"isi diff\": 0.9708433788361855}, {\"mouse\": \"m1bayes\", \"neuron\": \"0\", \"isi diff\": 0.8519963490936439}, {\"mouse\": \"m1bayes\", \"neuron\": \"1\", \"isi diff\": 0.9285373578690951}, {\"mouse\": \"m1bayes\", \"neuron\": \"2\", \"isi diff\": 0.8595155553847346}, {\"mouse\": \"m1bayes\", \"neuron\": \"3\", \"isi diff\": 0.8746729941353735}, {\"mouse\": \"m1bayes\", \"neuron\": \"4\", \"isi diff\": 1.079570047006546}, {\"mouse\": \"m1bayes\", \"neuron\": \"5\", \"isi diff\": 0.9504615734663504}, {\"mouse\": \"m1bayes\", \"neuron\": \"6\", \"isi diff\": 1.0110803192198978}, {\"mouse\": \"m1bayes\", \"neuron\": \"7\", \"isi diff\": 1.0085034430715945}, {\"mouse\": \"m2bayes\", \"neuron\": \"0\", \"isi diff\": 0.7305292280804918}, {\"mouse\": \"m2bayes\", \"neuron\": \"1\", \"isi diff\": 0.7065819934398482}, {\"mouse\": \"m2bayes\", \"neuron\": \"2\", \"isi diff\": 0.8774854243285798}, {\"mouse\": \"m2bayes\", \"neuron\": \"3\", \"isi diff\": 0.9182344761557198}, {\"mouse\": \"m2bayes\", \"neuron\": \"4\", \"isi diff\": 0.9323780525629972}, {\"mouse\": \"m2bayes\", \"neuron\": \"5\", \"isi diff\": 1.0624202469003885}, {\"mouse\": \"m2bayes\", \"neuron\": \"6\", \"isi diff\": 1.056090965125496}, {\"mouse\": \"m2bayes\", \"neuron\": \"7\", \"isi diff\": 0.9754576884523881}, {\"mouse\": \"m3bayes\", \"neuron\": \"0\", \"isi diff\": 0.9037974677500754}, {\"mouse\": \"m3bayes\", \"neuron\": \"1\", \"isi diff\": 0.6883657100693138}, {\"mouse\": \"m3bayes\", \"neuron\": \"2\", \"isi diff\": 0.8478072657970153}, {\"mouse\": \"m3bayes\", \"neuron\": \"3\", \"isi diff\": 0.8052496374599158}, {\"mouse\": \"m3bayes\", \"neuron\": \"4\", \"isi diff\": 0.8909764138183471}, {\"mouse\": \"m3bayes\", \"neuron\": \"5\", \"isi diff\": 0.8531093245786071}, {\"mouse\": \"m3bayes\", \"neuron\": \"6\", \"isi diff\": 1.2630026418405316}, {\"mouse\": \"m3bayes\", \"neuron\": \"7\", \"isi diff\": 0.9608606883948481}]}}, {\"mode\": \"vega-lite\"});\n",
       "</script>"
      ],
      "text/plain": [
       "alt.LayerChart(...)"
      ]
     },
     "execution_count": 2,
     "metadata": {},
     "output_type": "execute_result"
    }
   ],
   "source": [
    "df, df_monster, index_cols, firing_rates = generate_fake_spikes(n_trials=2,\n",
    "                                                                n_neurons=8,\n",
    "                                                                n_mice=4,\n",
    "                                                                dur=7, )\n",
    "\n",
    "\n",
    "# df['log_isi'] = np.log10(df['isi'])\n",
    "\n",
    "from bayes_window import visualization, utils\n",
    "from importlib import reload\n",
    "\n",
    "reload(visualization)\n",
    "reload(utils)\n",
    "y = 'isi'\n",
    "ddf, dy = utils.make_fold_change(df,\n",
    "                                 y=y,\n",
    "                                 index_cols=('stim', 'mouse', 'neuron'),\n",
    "                                 treatment_name='stim',\n",
    "                                 do_take_mean=True)\n",
    "\n",
    "visualization.plot_data(x='neuron', y=dy, color='mouse',  df=ddf)[0]"
   ]
  },
  {
   "cell_type": "markdown",
   "metadata": {},
   "source": [
    "TODO leave axis labels here somehow"
   ]
  },
  {
   "cell_type": "markdown",
   "metadata": {
    "hideCode": false,
    "hidePrompt": false
   },
   "source": [
    "\n",
    "## Estimate model"
   ]
  },
  {
   "cell_type": "code",
   "execution_count": 3,
   "metadata": {
    "hideCode": false,
    "hidePrompt": false
   },
   "outputs": [
    {
     "name": "stderr",
     "output_type": "stream",
     "text": [
      "\r",
      "  0%|                                                                                                                                                                        | 0/1100 [00:00<?, ?it/s]"
     ]
    },
    {
     "name": "stderr",
     "output_type": "stream",
     "text": [
      "\r",
      "warmup:   0%|                                                                                                            | 1/1100 [00:05<1:43:37,  5.66s/it, 7 steps of size 3.98e-02. acc. prob=1.00]"
     ]
    },
    {
     "name": "stderr",
     "output_type": "stream",
     "text": [
      "\r",
      "warmup:   5%|████▊                                                                                                     | 50/1100 [00:05<01:25, 12.24it/s, 1023 steps of size 8.04e-03. acc. prob=0.98]"
     ]
    },
    {
     "name": "stderr",
     "output_type": "stream",
     "text": [
      "\r",
      "warmup:   8%|████████▉                                                                                                 | 93/1100 [00:05<00:38, 26.44it/s, 1023 steps of size 8.26e-03. acc. prob=0.98]"
     ]
    },
    {
     "name": "stderr",
     "output_type": "stream",
     "text": [
      "\r",
      "warmup:  13%|█████████████▏                                                                                           | 138/1100 [00:05<00:20, 46.04it/s, 1023 steps of size 1.33e-02. acc. prob=0.97]"
     ]
    },
    {
     "name": "stderr",
     "output_type": "stream",
     "text": [
      "\r",
      "warmup:  16%|█████████████████▎                                                                                       | 181/1100 [00:06<00:13, 69.85it/s, 1023 steps of size 4.67e-03. acc. prob=0.98]"
     ]
    },
    {
     "name": "stderr",
     "output_type": "stream",
     "text": [
      "\r",
      "warmup:  21%|█████████████████████▊                                                                                   | 229/1100 [00:06<00:08, 103.20it/s, 703 steps of size 6.90e-03. acc. prob=0.98]"
     ]
    },
    {
     "name": "stderr",
     "output_type": "stream",
     "text": [
      "\r",
      "warmup:  28%|█████████████████████████████▌                                                                           | 310/1100 [00:06<00:04, 176.74it/s, 511 steps of size 8.60e-03. acc. prob=0.98]"
     ]
    },
    {
     "name": "stderr",
     "output_type": "stream",
     "text": [
      "\r",
      "warmup:  37%|██████████████████████████████████████▎                                                                  | 402/1100 [00:06<00:02, 272.82it/s, 255 steps of size 1.05e-02. acc. prob=0.99]"
     ]
    },
    {
     "name": "stderr",
     "output_type": "stream",
     "text": [
      "\r",
      "warmup:  44%|██████████████████████████████████████████████▍                                                          | 486/1100 [00:06<00:01, 360.75it/s, 511 steps of size 8.43e-03. acc. prob=0.99]"
     ]
    },
    {
     "name": "stderr",
     "output_type": "stream",
     "text": [
      "\r",
      "warmup:  55%|█████████████████████████████████████████████████████████▋                                               | 604/1100 [00:06<00:00, 509.54it/s, 255 steps of size 1.09e-02. acc. prob=0.99]"
     ]
    },
    {
     "name": "stderr",
     "output_type": "stream",
     "text": [
      "\r",
      "warmup:  67%|██████████████████████████████████████████████████████████████████████▎                                  | 737/1100 [00:06<00:00, 678.00it/s, 255 steps of size 1.17e-02. acc. prob=0.99]"
     ]
    },
    {
     "name": "stderr",
     "output_type": "stream",
     "text": [
      "\r",
      "warmup:  80%|███████████████████████████████████████████████████████████████████████████████████▊                     | 878/1100 [00:06<00:00, 843.99it/s, 255 steps of size 1.25e-02. acc. prob=0.99]"
     ]
    },
    {
     "name": "stderr",
     "output_type": "stream",
     "text": [
      "\r",
      "warmup:  91%|███████████████████████████████████████████████████████████████████████████████████████████████▎         | 999/1100 [00:06<00:00, 933.19it/s, 511 steps of size 7.12e-03. acc. prob=0.99]"
     ]
    },
    {
     "name": "stderr",
     "output_type": "stream",
     "text": [
      "\r",
      "sample: 100%|████████████████████████████████████████████████████████████████████████████████████████████████████████| 1100/1100 [00:06<00:00, 157.56it/s, 255 steps of size 9.50e-03. acc. prob=0.99]"
     ]
    },
    {
     "name": "stderr",
     "output_type": "stream",
     "text": [
      "\n"
     ]
    }
   ],
   "source": [
    "# y = list(set(df.columns) - set(index_cols))[0]\n",
    "trace = fit_numpyro(y=df[y].values,\n",
    "                    treatment=(df['stim']).astype(int).values,\n",
    "                    condition=trans(df['neuron']),\n",
    "                    group=trans(df['mouse']),\n",
    "                    progress_bar=True,\n",
    "                    model=models.model_hierarchical,\n",
    "                    n_draws=100, num_chains=1, )"
   ]
  },
  {
   "cell_type": "markdown",
   "metadata": {
    "hideCode": false,
    "hidePrompt": false
   },
   "source": [
    "## Add data back "
   ]
  },
  {
   "cell_type": "code",
   "execution_count": 4,
   "metadata": {
    "hideCode": false,
    "hidePrompt": false
   },
   "outputs": [],
   "source": [
    "# reload(utils)\n",
    "# df_both, trace = utils.add_data_to_posterior(df, posterior=trace.posterior, y=y,\n",
    "#                                              fold_change_index_cols=['neuron', 'stim', 'mouse_code', ],\n",
    "#                                              treatment_name='stim', b_name='slope_per_condition',\n",
    "#                                              posterior_index_name='neuron', group_name='mouse')\n",
    "#\n",
    "# + [markdown] hideCode=false hidePrompt=false\n",
    "# # ## Plot data and posterior\n",
    "#\n",
    "# + hideCode=false hidePrompt=false\n",
    "# # BayesWindow.regression_charts(df_both, y=f'{y} diff', x='neuron',color='mouse_code',title=y,hold_for_facet=False,add_box=False)\n",
    "# reload(visualization)\n",
    "#\n",
    "# chart_d, _ = visualization.plot_data(df=df_both, x='neuron', y=f'{y} diff', color='mouse_code', highlight=False)\n",
    "# chart_d\n",
    "#\n",
    "# + hideCode=false hidePrompt=false\n",
    "# chart_p = visualization.plot_posterior(df=df_both, title=f'd_{y}', x='neuron', )\n",
    "# chart_p\n",
    "#\n",
    "# + hideCode=false hidePrompt=false\n",
    "# (chart_d + chart_p).resolve_scale(y='independent')\n",
    "#\n",
    "# + hideCode=false hidePrompt=false\n",
    "# (chart_d + chart_p).facet(column='neuron')"
   ]
  },
  {
   "cell_type": "markdown",
   "metadata": {},
   "source": [
    "## Appendix: Elements of interactivity (WIP)"
   ]
  },
  {
   "cell_type": "code",
   "execution_count": 5,
   "metadata": {},
   "outputs": [
    {
     "data": {
      "text/html": [
       "\n",
       "<div id=\"altair-viz-a7c210a09c604097a2cb77c64c670f30\"></div>\n",
       "<script type=\"text/javascript\">\n",
       "  (function(spec, embedOpt){\n",
       "    let outputDiv = document.currentScript.previousElementSibling;\n",
       "    if (outputDiv.id !== \"altair-viz-a7c210a09c604097a2cb77c64c670f30\") {\n",
       "      outputDiv = document.getElementById(\"altair-viz-a7c210a09c604097a2cb77c64c670f30\");\n",
       "    }\n",
       "    const paths = {\n",
       "      \"vega\": \"https://cdn.jsdelivr.net/npm//vega@5?noext\",\n",
       "      \"vega-lib\": \"https://cdn.jsdelivr.net/npm//vega-lib?noext\",\n",
       "      \"vega-lite\": \"https://cdn.jsdelivr.net/npm//vega-lite@4.8.1?noext\",\n",
       "      \"vega-embed\": \"https://cdn.jsdelivr.net/npm//vega-embed@6?noext\",\n",
       "    };\n",
       "\n",
       "    function loadScript(lib) {\n",
       "      return new Promise(function(resolve, reject) {\n",
       "        var s = document.createElement('script');\n",
       "        s.src = paths[lib];\n",
       "        s.async = true;\n",
       "        s.onload = () => resolve(paths[lib]);\n",
       "        s.onerror = () => reject(`Error loading script: ${paths[lib]}`);\n",
       "        document.getElementsByTagName(\"head\")[0].appendChild(s);\n",
       "      });\n",
       "    }\n",
       "\n",
       "    function showError(err) {\n",
       "      outputDiv.innerHTML = `<div class=\"error\" style=\"color:red;\">${err}</div>`;\n",
       "      throw err;\n",
       "    }\n",
       "\n",
       "    function displayChart(vegaEmbed) {\n",
       "      vegaEmbed(outputDiv, spec, embedOpt)\n",
       "        .catch(err => showError(`Javascript Error: ${err.message}<br>This usually means there's a typo in your chart specification. See the javascript console for the full traceback.`));\n",
       "    }\n",
       "\n",
       "    if(typeof define === \"function\" && define.amd) {\n",
       "      requirejs.config({paths});\n",
       "      require([\"vega-embed\"], displayChart, err => showError(`Error loading script: ${err.message}`));\n",
       "    } else if (typeof vegaEmbed === \"function\") {\n",
       "      displayChart(vegaEmbed);\n",
       "    } else {\n",
       "      loadScript(\"vega\")\n",
       "        .then(() => loadScript(\"vega-lite\"))\n",
       "        .then(() => loadScript(\"vega-embed\"))\n",
       "        .catch(showError)\n",
       "        .then(() => displayChart(vegaEmbed));\n",
       "    }\n",
       "  })({\"config\": {\"view\": {\"continuousWidth\": 400, \"continuousHeight\": 300}}, \"layer\": [{\"mark\": {\"type\": \"line\", \"clip\": true, \"fill\": null, \"opacity\": 0.6}, \"encoding\": {\"color\": {\"type\": \"nominal\", \"field\": \"mouse\"}, \"size\": {\"condition\": {\"value\": 1, \"selection\": {\"not\": \"selector001\"}}, \"value\": 3}, \"x\": {\"type\": \"nominal\", \"field\": \"neuron\"}, \"y\": {\"type\": \"quantitative\", \"aggregate\": \"mean\", \"field\": \"isi\", \"scale\": {\"domain\": [0.047376836840058716, 0.08437368647214874], \"zero\": false}}}}, {\"mark\": \"circle\", \"encoding\": {\"color\": {\"type\": \"nominal\", \"field\": \"mouse\"}, \"opacity\": {\"value\": 0}, \"x\": {\"type\": \"nominal\", \"field\": \"neuron\"}, \"y\": {\"type\": \"quantitative\", \"aggregate\": \"mean\", \"field\": \"isi\", \"scale\": {\"domain\": [0.047376836840058716, 0.08437368647214874], \"zero\": false}}}, \"selection\": {\"selector001\": {\"type\": \"single\", \"on\": \"mouseover\", \"fields\": [\"mouse\"], \"nearest\": true}}}], \"data\": {\"name\": \"data-e3d7eb0f712fd027f48b7f8b58dff5d2\"}, \"$schema\": \"https://vega.github.io/schema/vega-lite/v4.8.1.json\", \"datasets\": {\"data-e3d7eb0f712fd027f48b7f8b58dff5d2\": [{\"mouse_code\": 0, \"mouse\": \"m0bayes\", \"neuron_x_mouse\": \"m0bayes0\", \"neuron\": \"0\", \"neuron_code\": 0, \"stim\": 0, \"i_trial\": 0, \"log_firing_rate\": 1.724221409023608, \"Firing rate\": 52.99335421070193, \"firing_rate\": 52.99335421070193, \"i_spike\": 36.5, \"isi\": 0.0948419485269121}, {\"mouse_code\": 0, \"mouse\": \"m0bayes\", \"neuron_x_mouse\": \"m0bayes0\", \"neuron\": \"0\", \"neuron_code\": 0, \"stim\": 0, \"i_trial\": 1, \"log_firing_rate\": 1.633595543551412, \"Firing rate\": 43.01258496867059, \"firing_rate\": 43.01258496867059, \"i_spike\": 35.5, \"isi\": 0.0978672387598592}, {\"mouse_code\": 0, \"mouse\": \"m0bayes\", \"neuron_x_mouse\": \"m0bayes0\", \"neuron\": \"0\", \"neuron_code\": 0, \"stim\": 1, \"i_trial\": 0, \"log_firing_rate\": 2.344531349718487, \"Firing rate\": 221.07078313566782, \"firing_rate\": 221.07078313566782, \"i_spike\": 42.0, \"isi\": 0.08266492174284572}, {\"mouse_code\": 0, \"mouse\": \"m0bayes\", \"neuron_x_mouse\": \"m0bayes0\", \"neuron\": \"0\", \"neuron_code\": 0, \"stim\": 1, \"i_trial\": 1, \"log_firing_rate\": 1.8795917145446466, \"Firing rate\": 75.78647622599728, \"firing_rate\": 75.78647622599728, \"i_spike\": 45.5, \"isi\": 0.07650058096664691}, {\"mouse_code\": 0, \"mouse\": \"m0bayes\", \"neuron_x_mouse\": \"m0bayes1\", \"neuron\": \"1\", \"neuron_code\": 1, \"stim\": 0, \"i_trial\": 0, \"log_firing_rate\": 2.2219347525706485, \"Firing rate\": 166.69967478826118, \"firing_rate\": 166.69967478826118, \"i_spike\": 50.0, \"isi\": 0.07057894830868736}, {\"mouse_code\": 0, \"mouse\": \"m0bayes\", \"neuron_x_mouse\": \"m0bayes1\", \"neuron\": \"1\", \"neuron_code\": 1, \"stim\": 0, \"i_trial\": 1, \"log_firing_rate\": 2.1470158115320324, \"Firing rate\": 140.28647782884823, \"firing_rate\": 140.28647782884823, \"i_spike\": 43.0, \"isi\": 0.08122912744317543}, {\"mouse_code\": 0, \"mouse\": \"m0bayes\", \"neuron_x_mouse\": \"m0bayes1\", \"neuron\": \"1\", \"neuron_code\": 1, \"stim\": 1, \"i_trial\": 0, \"log_firing_rate\": 1.6813125070215946, \"Firing rate\": 48.0078776587367, \"firing_rate\": 48.0078776587367, \"i_spike\": 47.0, \"isi\": 0.07400854677691202}, {\"mouse_code\": 0, \"mouse\": \"m0bayes\", \"neuron_x_mouse\": \"m0bayes1\", \"neuron\": \"1\", \"neuron_code\": 1, \"stim\": 1, \"i_trial\": 1, \"log_firing_rate\": 1.8358978828771093, \"Firing rate\": 68.53270642474195, \"firing_rate\": 68.53270642474195, \"i_spike\": 47.5, \"isi\": 0.07291918672643871}, {\"mouse_code\": 0, \"mouse\": \"m0bayes\", \"neuron_x_mouse\": \"m0bayes2\", \"neuron\": \"2\", \"neuron_code\": 2, \"stim\": 0, \"i_trial\": 0, \"log_firing_rate\": 1.7315264890044262, \"Firing rate\": 53.892271498464865, \"firing_rate\": 53.892271498464865, \"i_spike\": 46.0, \"isi\": 0.07563878717528616}, {\"mouse_code\": 0, \"mouse\": \"m0bayes\", \"neuron_x_mouse\": \"m0bayes2\", \"neuron\": \"2\", \"neuron_code\": 2, \"stim\": 0, \"i_trial\": 1, \"log_firing_rate\": 1.955137751737005, \"Firing rate\": 90.18571478906371, \"firing_rate\": 90.18571478906371, \"i_spike\": 61.0, \"isi\": 0.057758185744407886}, {\"mouse_code\": 0, \"mouse\": \"m0bayes\", \"neuron_x_mouse\": \"m0bayes2\", \"neuron\": \"2\", \"neuron_code\": 2, \"stim\": 1, \"i_trial\": 0, \"log_firing_rate\": 2.0595324929353915, \"Firing rate\": 114.6918328059711, \"firing_rate\": 114.6918328059711, \"i_spike\": 49.5, \"isi\": 0.070888092203214}, {\"mouse_code\": 0, \"mouse\": \"m0bayes\", \"neuron_x_mouse\": \"m0bayes2\", \"neuron\": \"2\", \"neuron_code\": 2, \"stim\": 1, \"i_trial\": 1, \"log_firing_rate\": 1.9522566057904294, \"Firing rate\": 89.58939541133485, \"firing_rate\": 89.58939541133485, \"i_spike\": 54.5, \"isi\": 0.063327935350839}, {\"mouse_code\": 0, \"mouse\": \"m0bayes\", \"neuron_x_mouse\": \"m0bayes3\", \"neuron\": \"3\", \"neuron_code\": 3, \"stim\": 0, \"i_trial\": 0, \"log_firing_rate\": 2.024529225937566, \"Firing rate\": 105.81061190719379, \"firing_rate\": 105.81061190719379, \"i_spike\": 49.0, \"isi\": 0.0717106775880542}, {\"mouse_code\": 0, \"mouse\": \"m0bayes\", \"neuron_x_mouse\": \"m0bayes3\", \"neuron\": \"3\", \"neuron_code\": 3, \"stim\": 0, \"i_trial\": 1, \"log_firing_rate\": 2.1370690226916045, \"Firing rate\": 137.10996585693772, \"firing_rate\": 137.10996585693772, \"i_spike\": 54.5, \"isi\": 0.06293944602055462}, {\"mouse_code\": 0, \"mouse\": \"m0bayes\", \"neuron_x_mouse\": \"m0bayes3\", \"neuron\": \"3\", \"neuron_code\": 3, \"stim\": 1, \"i_trial\": 0, \"log_firing_rate\": 1.8514619205312282, \"Firing rate\": 71.03328844204746, \"firing_rate\": 71.03328844204746, \"i_spike\": 46.0, \"isi\": 0.07499532927243473}, {\"mouse_code\": 0, \"mouse\": \"m0bayes\", \"neuron_x_mouse\": \"m0bayes3\", \"neuron\": \"3\", \"neuron_code\": 3, \"stim\": 1, \"i_trial\": 1, \"log_firing_rate\": 1.9343685803873407, \"Firing rate\": 85.9742865168645, \"firing_rate\": 85.9742865168645, \"i_spike\": 55.5, \"isi\": 0.06176737410910938}, {\"mouse_code\": 0, \"mouse\": \"m0bayes\", \"neuron_x_mouse\": \"m0bayes4\", \"neuron\": \"4\", \"neuron_code\": 4, \"stim\": 0, \"i_trial\": 0, \"log_firing_rate\": 1.8883774915531348, \"Firing rate\": 77.33524959955103, \"firing_rate\": 77.33524959955103, \"i_spike\": 49.0, \"isi\": 0.07183092203336713}, {\"mouse_code\": 0, \"mouse\": \"m0bayes\", \"neuron_x_mouse\": \"m0bayes4\", \"neuron\": \"4\", \"neuron_code\": 4, \"stim\": 0, \"i_trial\": 1, \"log_firing_rate\": 2.0442166066939214, \"Firing rate\": 110.71758561672713, \"firing_rate\": 110.71758561672713, \"i_spike\": 53.5, \"isi\": 0.06485125938197431}, {\"mouse_code\": 0, \"mouse\": \"m0bayes\", \"neuron_x_mouse\": \"m0bayes4\", \"neuron\": \"4\", \"neuron_code\": 4, \"stim\": 1, \"i_trial\": 0, \"log_firing_rate\": 1.8428532693330415, \"Firing rate\": 69.63911917389251, \"firing_rate\": 69.63911917389251, \"i_spike\": 53.0, \"isi\": 0.06647147997818734}, {\"mouse_code\": 0, \"mouse\": \"m0bayes\", \"neuron_x_mouse\": \"m0bayes4\", \"neuron\": \"4\", \"neuron_code\": 4, \"stim\": 1, \"i_trial\": 1, \"log_firing_rate\": 1.9085113355364822, \"Firing rate\": 81.00490845258145, \"firing_rate\": 81.00490845258145, \"i_spike\": 62.0, \"isi\": 0.05668414790977293}, {\"mouse_code\": 0, \"mouse\": \"m0bayes\", \"neuron_x_mouse\": \"m0bayes5\", \"neuron\": \"5\", \"neuron_code\": 5, \"stim\": 0, \"i_trial\": 0, \"log_firing_rate\": 1.979645896781979, \"Firing rate\": 95.4214247504213, \"firing_rate\": 95.4214247504213, \"i_spike\": 55.5, \"isi\": 0.06318575603799689}, {\"mouse_code\": 0, \"mouse\": \"m0bayes\", \"neuron_x_mouse\": \"m0bayes5\", \"neuron\": \"5\", \"neuron_code\": 5, \"stim\": 0, \"i_trial\": 1, \"log_firing_rate\": 2.0344496644605377, \"Firing rate\": 108.25542378031544, \"firing_rate\": 108.25542378031544, \"i_spike\": 47.0, \"isi\": 0.0735133104011012}, {\"mouse_code\": 0, \"mouse\": \"m0bayes\", \"neuron_x_mouse\": \"m0bayes5\", \"neuron\": \"5\", \"neuron_code\": 5, \"stim\": 1, \"i_trial\": 0, \"log_firing_rate\": 1.874755767717839, \"Firing rate\": 74.94726131730927, \"firing_rate\": 74.94726131730927, \"i_spike\": 66.0, \"isi\": 0.05336031678789983}, {\"mouse_code\": 0, \"mouse\": \"m0bayes\", \"neuron_x_mouse\": \"m0bayes5\", \"neuron\": \"5\", \"neuron_code\": 5, \"stim\": 1, \"i_trial\": 1, \"log_firing_rate\": 2.911060797105292, \"Firing rate\": 814.8183428710997, \"firing_rate\": 814.8183428710997, \"i_spike\": 59.0, \"isi\": 0.05970307338236441}, {\"mouse_code\": 0, \"mouse\": \"m0bayes\", \"neuron_x_mouse\": \"m0bayes6\", \"neuron\": \"6\", \"neuron_code\": 6, \"stim\": 0, \"i_trial\": 0, \"log_firing_rate\": 2.4622714214573374, \"Firing rate\": 289.9154909378065, \"firing_rate\": 289.9154909378065, \"i_spike\": 70.5, \"isi\": 0.049445091033082846}, {\"mouse_code\": 0, \"mouse\": \"m0bayes\", \"neuron_x_mouse\": \"m0bayes6\", \"neuron\": \"6\", \"neuron_code\": 6, \"stim\": 0, \"i_trial\": 1, \"log_firing_rate\": 2.179314721619562, \"Firing rate\": 151.1174865553453, \"firing_rate\": 151.1174865553453, \"i_spike\": 64.5, \"isi\": 0.05426342621277034}, {\"mouse_code\": 0, \"mouse\": \"m0bayes\", \"neuron_x_mouse\": \"m0bayes6\", \"neuron\": \"6\", \"neuron_code\": 6, \"stim\": 1, \"i_trial\": 0, \"log_firing_rate\": 2.0894840220284823, \"Firing rate\": 122.88079771161411, \"firing_rate\": 122.88079771161411, \"i_spike\": 74.0, \"isi\": 0.04740309509892094}, {\"mouse_code\": 0, \"mouse\": \"m0bayes\", \"neuron_x_mouse\": \"m0bayes6\", \"neuron\": \"6\", \"neuron_code\": 6, \"stim\": 1, \"i_trial\": 1, \"log_firing_rate\": 1.8548442556242868, \"Firing rate\": 71.58866367186889, \"firing_rate\": 71.58866367186889, \"i_spike\": 64.0, \"isi\": 0.054430430475563396}, {\"mouse_code\": 0, \"mouse\": \"m0bayes\", \"neuron_x_mouse\": \"m0bayes7\", \"neuron\": \"7\", \"neuron_code\": 7, \"stim\": 0, \"i_trial\": 0, \"log_firing_rate\": 1.971253097086805, \"Firing rate\": 93.59509664785008, \"firing_rate\": 93.59509664785008, \"i_spike\": 61.0, \"isi\": 0.057003082578679865}, {\"mouse_code\": 0, \"mouse\": \"m0bayes\", \"neuron_x_mouse\": \"m0bayes7\", \"neuron\": \"7\", \"neuron_code\": 7, \"stim\": 0, \"i_trial\": 1, \"log_firing_rate\": 2.4992099451361254, \"Firing rate\": 315.6530173504206, \"firing_rate\": 315.6530173504206, \"i_spike\": 74.0, \"isi\": 0.047564082012304415}, {\"mouse_code\": 0, \"mouse\": \"m0bayes\", \"neuron_x_mouse\": \"m0bayes7\", \"neuron\": \"7\", \"neuron_code\": 7, \"stim\": 1, \"i_trial\": 0, \"log_firing_rate\": 1.8531634465961362, \"Firing rate\": 71.31213626377946, \"firing_rate\": 71.31213626377946, \"i_spike\": 73.5, \"isi\": 0.04736269777759444}, {\"mouse_code\": 0, \"mouse\": \"m0bayes\", \"neuron_x_mouse\": \"m0bayes7\", \"neuron\": \"7\", \"neuron_code\": 7, \"stim\": 1, \"i_trial\": 1, \"log_firing_rate\": 1.8498536210116385, \"Firing rate\": 70.7707211411111, \"firing_rate\": 70.7707211411111, \"i_spike\": 65.0, \"isi\": 0.05415564160923628}, {\"mouse_code\": 1, \"mouse\": \"m1bayes\", \"neuron_x_mouse\": \"m1bayes0\", \"neuron\": \"0\", \"neuron_code\": 8, \"stim\": 0, \"i_trial\": 0, \"log_firing_rate\": 1.7341074130637828, \"Firing rate\": 54.21349588245268, \"firing_rate\": 54.21349588245268, \"i_spike\": 45.0, \"isi\": 0.07796135286974609}, {\"mouse_code\": 1, \"mouse\": \"m1bayes\", \"neuron_x_mouse\": \"m1bayes0\", \"neuron\": \"0\", \"neuron_code\": 8, \"stim\": 0, \"i_trial\": 1, \"log_firing_rate\": 1.6460087625546405, \"Firing rate\": 44.25973023492653, \"firing_rate\": 44.25973023492653, \"i_spike\": 39.0, \"isi\": 0.08973346027463594}, {\"mouse_code\": 1, \"mouse\": \"m1bayes\", \"neuron_x_mouse\": \"m1bayes0\", \"neuron\": \"0\", \"neuron_code\": 8, \"stim\": 1, \"i_trial\": 0, \"log_firing_rate\": 2.0434431340849977, \"Firing rate\": 110.52057458059855, \"firing_rate\": 110.52057458059855, \"i_spike\": 48.0, \"isi\": 0.07320440372947888}, {\"mouse_code\": 1, \"mouse\": \"m1bayes\", \"neuron_x_mouse\": \"m1bayes0\", \"neuron\": \"0\", \"neuron_code\": 8, \"stim\": 1, \"i_trial\": 1, \"log_firing_rate\": 1.6615596584671661, \"Firing rate\": 45.873265697765774, \"firing_rate\": 45.873265697765774, \"i_spike\": 50.5, \"isi\": 0.06967096483147542}, {\"mouse_code\": 1, \"mouse\": \"m1bayes\", \"neuron_x_mouse\": \"m1bayes1\", \"neuron\": \"1\", \"neuron_code\": 9, \"stim\": 0, \"i_trial\": 0, \"log_firing_rate\": 1.898290262055726, \"Firing rate\": 79.12072571339543, \"firing_rate\": 79.12072571339543, \"i_spike\": 41.0, \"isi\": 0.08503618329799144}, {\"mouse_code\": 1, \"mouse\": \"m1bayes\", \"neuron_x_mouse\": \"m1bayes1\", \"neuron\": \"1\", \"neuron_code\": 9, \"stim\": 0, \"i_trial\": 1, \"log_firing_rate\": 2.605991091234577, \"Firing rate\": 403.63711299770563, \"firing_rate\": 403.63711299770563, \"i_spike\": 54.5, \"isi\": 0.06392431842878664}, {\"mouse_code\": 1, \"mouse\": \"m1bayes\", \"neuron_x_mouse\": \"m1bayes1\", \"neuron\": \"1\", \"neuron_code\": 9, \"stim\": 1, \"i_trial\": 0, \"log_firing_rate\": 1.6226117576068013, \"Firing rate\": 41.93839034468914, \"firing_rate\": 41.93839034468914, \"i_spike\": 47.0, \"isi\": 0.07468326221891197}, {\"mouse_code\": 1, \"mouse\": \"m1bayes\", \"neuron_x_mouse\": \"m1bayes1\", \"neuron\": \"1\", \"neuron_code\": 9, \"stim\": 1, \"i_trial\": 1, \"log_firing_rate\": 2.0753698178572164, \"Firing rate\": 118.95147121824378, \"firing_rate\": 118.95147121824378, \"i_spike\": 53.0, \"isi\": 0.06363212848132532}, {\"mouse_code\": 1, \"mouse\": \"m1bayes\", \"neuron_x_mouse\": \"m1bayes2\", \"neuron\": \"2\", \"neuron_code\": 10, \"stim\": 0, \"i_trial\": 0, \"log_firing_rate\": 2.1116016165240143, \"Firing rate\": 129.3009204605622, \"firing_rate\": 129.3009204605622, \"i_spike\": 57.0, \"isi\": 0.06160690753781567}, {\"mouse_code\": 1, \"mouse\": \"m1bayes\", \"neuron_x_mouse\": \"m1bayes2\", \"neuron\": \"2\", \"neuron_code\": 10, \"stim\": 0, \"i_trial\": 1, \"log_firing_rate\": 1.6600396721514916, \"Firing rate\": 45.71299458446367, \"firing_rate\": 45.71299458446367, \"i_spike\": 39.5, \"isi\": 0.08891725295215056}, {\"mouse_code\": 1, \"mouse\": \"m1bayes\", \"neuron_x_mouse\": \"m1bayes2\", \"neuron\": \"2\", \"neuron_code\": 10, \"stim\": 1, \"i_trial\": 0, \"log_firing_rate\": 1.731733174186021, \"Firing rate\": 53.91792548515964, \"firing_rate\": 53.91792548515964, \"i_spike\": 52.5, \"isi\": 0.06470723404634107}, {\"mouse_code\": 1, \"mouse\": \"m1bayes\", \"neuron_x_mouse\": \"m1bayes2\", \"neuron\": \"2\", \"neuron_code\": 10, \"stim\": 1, \"i_trial\": 1, \"log_firing_rate\": 1.8482826941900048, \"Firing rate\": 70.51519223378256, \"firing_rate\": 70.51519223378256, \"i_spike\": 54.5, \"isi\": 0.06467062335601319}, {\"mouse_code\": 1, \"mouse\": \"m1bayes\", \"neuron_x_mouse\": \"m1bayes3\", \"neuron\": \"3\", \"neuron_code\": 11, \"stim\": 0, \"i_trial\": 0, \"log_firing_rate\": 2.217630417429182, \"Firing rate\": 165.0556584472852, \"firing_rate\": 165.0556584472852, \"i_spike\": 49.0, \"isi\": 0.07154153492781877}, {\"mouse_code\": 1, \"mouse\": \"m1bayes\", \"neuron_x_mouse\": \"m1bayes3\", \"neuron\": \"3\", \"neuron_code\": 11, \"stim\": 0, \"i_trial\": 1, \"log_firing_rate\": 2.0376342051247325, \"Firing rate\": 109.05214318587271, \"firing_rate\": 109.05214318587271, \"i_spike\": 48.5, \"isi\": 0.07200322164401429}, {\"mouse_code\": 1, \"mouse\": \"m1bayes\", \"neuron_x_mouse\": \"m1bayes3\", \"neuron\": \"3\", \"neuron_code\": 11, \"stim\": 1, \"i_trial\": 0, \"log_firing_rate\": 1.9330603104315345, \"Firing rate\": 85.71568702550552, \"firing_rate\": 85.71568702550552, \"i_spike\": 50.5, \"isi\": 0.0697356806651148}, {\"mouse_code\": 1, \"mouse\": \"m1bayes\", \"neuron_x_mouse\": \"m1bayes3\", \"neuron\": \"3\", \"neuron_code\": 11, \"stim\": 1, \"i_trial\": 1, \"log_firing_rate\": 1.9856630010403102, \"Firing rate\": 96.75267943115182, \"firing_rate\": 96.75267943115182, \"i_spike\": 61.5, \"isi\": 0.05581904135800377}, {\"mouse_code\": 1, \"mouse\": \"m1bayes\", \"neuron_x_mouse\": \"m1bayes4\", \"neuron\": \"4\", \"neuron_code\": 12, \"stim\": 0, \"i_trial\": 0, \"log_firing_rate\": 2.052642610484312, \"Firing rate\": 112.88665657194355, \"firing_rate\": 112.88665657194355, \"i_spike\": 66.0, \"isi\": 0.05210960365188146}, {\"mouse_code\": 1, \"mouse\": \"m1bayes\", \"neuron_x_mouse\": \"m1bayes4\", \"neuron\": \"4\", \"neuron_code\": 12, \"stim\": 0, \"i_trial\": 1, \"log_firing_rate\": 1.7318444741668373, \"Firing rate\": 53.93174521660299, \"firing_rate\": 53.93174521660299, \"i_spike\": 51.5, \"isi\": 0.06775002519325103}, {\"mouse_code\": 1, \"mouse\": \"m1bayes\", \"neuron_x_mouse\": \"m1bayes4\", \"neuron\": \"4\", \"neuron_code\": 12, \"stim\": 1, \"i_trial\": 0, \"log_firing_rate\": 2.0317102209182014, \"Firing rate\": 107.57471914842182, \"firing_rate\": 107.57471914842182, \"i_spike\": 54.5, \"isi\": 0.06408368280697221}, {\"mouse_code\": 1, \"mouse\": \"m1bayes\", \"neuron_x_mouse\": \"m1bayes4\", \"neuron\": \"4\", \"neuron_code\": 12, \"stim\": 1, \"i_trial\": 1, \"log_firing_rate\": 2.013777306759153, \"Firing rate\": 103.22319723046351, \"firing_rate\": 103.22319723046351, \"i_spike\": 53.5, \"isi\": 0.0653131823395546}, {\"mouse_code\": 1, \"mouse\": \"m1bayes\", \"neuron_x_mouse\": \"m1bayes5\", \"neuron\": \"5\", \"neuron_code\": 13, \"stim\": 0, \"i_trial\": 0, \"log_firing_rate\": 1.7051926194276952, \"Firing rate\": 50.72156199964211, \"firing_rate\": 50.72156199964211, \"i_spike\": 51.5, \"isi\": 0.06705381632419095}, {\"mouse_code\": 1, \"mouse\": \"m1bayes\", \"neuron_x_mouse\": \"m1bayes5\", \"neuron\": \"5\", \"neuron_code\": 13, \"stim\": 0, \"i_trial\": 1, \"log_firing_rate\": 2.3107737224420086, \"Firing rate\": 204.5378669042609, \"firing_rate\": 204.5378669042609, \"i_spike\": 54.5, \"isi\": 0.0645491389100532}, {\"mouse_code\": 1, \"mouse\": \"m1bayes\", \"neuron_x_mouse\": \"m1bayes5\", \"neuron\": \"5\", \"neuron_code\": 13, \"stim\": 1, \"i_trial\": 0, \"log_firing_rate\": 2.2957869978251373, \"Firing rate\": 197.6000261954281, \"firing_rate\": 197.6000261954281, \"i_spike\": 55.0, \"isi\": 0.06299583323588677}, {\"mouse_code\": 1, \"mouse\": \"m1bayes\", \"neuron_x_mouse\": \"m1bayes5\", \"neuron\": \"5\", \"neuron_code\": 13, \"stim\": 1, \"i_trial\": 1, \"log_firing_rate\": 1.7760184526833378, \"Firing rate\": 59.706065447957386, \"firing_rate\": 59.706065447957386, \"i_spike\": 56.5, \"isi\": 0.062087718668874595}, {\"mouse_code\": 1, \"mouse\": \"m1bayes\", \"neuron_x_mouse\": \"m1bayes6\", \"neuron\": \"6\", \"neuron_code\": 14, \"stim\": 0, \"i_trial\": 0, \"log_firing_rate\": 2.3029208886292576, \"Firing rate\": 200.8726868261385, \"firing_rate\": 200.8726868261385, \"i_spike\": 63.0, \"isi\": 0.055780389758700456}, {\"mouse_code\": 1, \"mouse\": \"m1bayes\", \"neuron_x_mouse\": \"m1bayes6\", \"neuron\": \"6\", \"neuron_code\": 14, \"stim\": 0, \"i_trial\": 1, \"log_firing_rate\": 1.8875745912534234, \"Firing rate\": 77.19240842521681, \"firing_rate\": 77.19240842521681, \"i_spike\": 66.0, \"isi\": 0.0524040052299219}, {\"mouse_code\": 1, \"mouse\": \"m1bayes\", \"neuron_x_mouse\": \"m1bayes6\", \"neuron\": \"6\", \"neuron_code\": 14, \"stim\": 1, \"i_trial\": 0, \"log_firing_rate\": 2.1766148155602663, \"Firing rate\": 150.18093905254216, \"firing_rate\": 150.18093905254216, \"i_spike\": 63.0, \"isi\": 0.05576717720977659}, {\"mouse_code\": 1, \"mouse\": \"m1bayes\", \"neuron_x_mouse\": \"m1bayes6\", \"neuron\": \"6\", \"neuron_code\": 14, \"stim\": 1, \"i_trial\": 1, \"log_firing_rate\": 2.000275177054359, \"Firing rate\": 100.06338193619592, \"firing_rate\": 100.06338193619592, \"i_spike\": 65.5, \"isi\": 0.05361593540993121}, {\"mouse_code\": 1, \"mouse\": \"m1bayes\", \"neuron_x_mouse\": \"m1bayes7\", \"neuron\": \"7\", \"neuron_code\": 15, \"stim\": 0, \"i_trial\": 0, \"log_firing_rate\": 1.9977287586285841, \"Firing rate\": 99.47839246876103, \"firing_rate\": 99.47839246876103, \"i_spike\": 64.5, \"isi\": 0.05460516478575232}, {\"mouse_code\": 1, \"mouse\": \"m1bayes\", \"neuron_x_mouse\": \"m1bayes7\", \"neuron\": \"7\", \"neuron_code\": 15, \"stim\": 0, \"i_trial\": 1, \"log_firing_rate\": 2.2381567567607585, \"Firing rate\": 173.04408418264865, \"firing_rate\": 173.04408418264865, \"i_spike\": 64.5, \"isi\": 0.05405100808817402}, {\"mouse_code\": 1, \"mouse\": \"m1bayes\", \"neuron_x_mouse\": \"m1bayes7\", \"neuron\": \"7\", \"neuron_code\": 15, \"stim\": 1, \"i_trial\": 0, \"log_firing_rate\": 2.636569444672407, \"Firing rate\": 433.08131288555904, \"firing_rate\": 433.08131288555904, \"i_spike\": 65.0, \"isi\": 0.0537325222023488}, {\"mouse_code\": 1, \"mouse\": \"m1bayes\", \"neuron_x_mouse\": \"m1bayes7\", \"neuron\": \"7\", \"neuron_code\": 15, \"stim\": 1, \"i_trial\": 1, \"log_firing_rate\": 2.320310074227337, \"Firing rate\": 209.07883630474004, \"firing_rate\": 209.07883630474004, \"i_spike\": 61.0, \"isi\": 0.05584760225198829}, {\"mouse_code\": 2, \"mouse\": \"m2bayes\", \"neuron_x_mouse\": \"m2bayes0\", \"neuron\": \"0\", \"neuron_code\": 16, \"stim\": 0, \"i_trial\": 0, \"log_firing_rate\": 1.7647270340477952, \"Firing rate\": 58.17374649430658, \"firing_rate\": 58.17374649430658, \"i_spike\": 40.5, \"isi\": 0.08314333522415522}, {\"mouse_code\": 2, \"mouse\": \"m2bayes\", \"neuron_x_mouse\": \"m2bayes0\", \"neuron\": \"0\", \"neuron_code\": 16, \"stim\": 0, \"i_trial\": 1, \"log_firing_rate\": 1.9859686130233412, \"Firing rate\": 96.82078802022427, \"firing_rate\": 96.82078802022427, \"i_spike\": 43.0, \"isi\": 0.08074346121851099}, {\"mouse_code\": 2, \"mouse\": \"m2bayes\", \"neuron_x_mouse\": \"m2bayes0\", \"neuron\": \"0\", \"neuron_code\": 16, \"stim\": 1, \"i_trial\": 0, \"log_firing_rate\": 1.9811000902140905, \"Firing rate\": 95.74146976310267, \"firing_rate\": 95.74146976310267, \"i_spike\": 59.0, \"isi\": 0.05857522629050065}, {\"mouse_code\": 2, \"mouse\": \"m2bayes\", \"neuron_x_mouse\": \"m2bayes0\", \"neuron\": \"0\", \"neuron_code\": 16, \"stim\": 1, \"i_trial\": 1, \"log_firing_rate\": 1.8798325179328774, \"Firing rate\": 75.82850922755468, \"firing_rate\": 75.82850922755468, \"i_spike\": 56.5, \"isi\": 0.06114886860734498}, {\"mouse_code\": 2, \"mouse\": \"m2bayes\", \"neuron_x_mouse\": \"m2bayes1\", \"neuron\": \"1\", \"neuron_code\": 17, \"stim\": 0, \"i_trial\": 0, \"log_firing_rate\": 1.7794329879799822, \"Firing rate\": 60.177340157103885, \"firing_rate\": 60.177340157103885, \"i_spike\": 31.5, \"isi\": 0.10845009506350306}, {\"mouse_code\": 2, \"mouse\": \"m2bayes\", \"neuron_x_mouse\": \"m2bayes1\", \"neuron\": \"1\", \"neuron_code\": 17, \"stim\": 0, \"i_trial\": 1, \"log_firing_rate\": 1.7294277573055528, \"Firing rate\": 53.63246491220156, \"firing_rate\": 53.63246491220156, \"i_spike\": 48.0, \"isi\": 0.07257675394359081}, {\"mouse_code\": 2, \"mouse\": \"m2bayes\", \"neuron_x_mouse\": \"m2bayes1\", \"neuron\": \"1\", \"neuron_code\": 17, \"stim\": 1, \"i_trial\": 0, \"log_firing_rate\": 1.963155298221999, \"Firing rate\": 91.86610393424188, \"firing_rate\": 91.86610393424188, \"i_spike\": 45.5, \"isi\": 0.07666968766533568}, {\"mouse_code\": 2, \"mouse\": \"m2bayes\", \"neuron_x_mouse\": \"m2bayes1\", \"neuron\": \"1\", \"neuron_code\": 17, \"stim\": 1, \"i_trial\": 1, \"log_firing_rate\": 1.9526934948604882, \"Firing rate\": 89.67956538381998, \"firing_rate\": 89.67956538381998, \"i_spike\": 65.5, \"isi\": 0.051240624172231124}, {\"mouse_code\": 2, \"mouse\": \"m2bayes\", \"neuron_x_mouse\": \"m2bayes2\", \"neuron\": \"2\", \"neuron_code\": 18, \"stim\": 0, \"i_trial\": 0, \"log_firing_rate\": 1.7172877240008102, \"Firing rate\": 52.15401216955962, \"firing_rate\": 52.15401216955962, \"i_spike\": 49.5, \"isi\": 0.07096046167551306}, {\"mouse_code\": 2, \"mouse\": \"m2bayes\", \"neuron_x_mouse\": \"m2bayes2\", \"neuron\": \"2\", \"neuron_code\": 18, \"stim\": 0, \"i_trial\": 1, \"log_firing_rate\": 1.7196535179367844, \"Firing rate\": 52.43889335045658, \"firing_rate\": 52.43889335045658, \"i_spike\": 46.5, \"isi\": 0.07315941137391924}, {\"mouse_code\": 2, \"mouse\": \"m2bayes\", \"neuron_x_mouse\": \"m2bayes2\", \"neuron\": \"2\", \"neuron_code\": 18, \"stim\": 1, \"i_trial\": 0, \"log_firing_rate\": 2.076302978927619, \"Firing rate\": 119.20733498151473, \"firing_rate\": 119.20733498151473, \"i_spike\": 60.5, \"isi\": 0.057931681767005916}, {\"mouse_code\": 2, \"mouse\": \"m2bayes\", \"neuron_x_mouse\": \"m2bayes2\", \"neuron\": \"2\", \"neuron_code\": 18, \"stim\": 1, \"i_trial\": 1, \"log_firing_rate\": 1.6961784186321127, \"Firing rate\": 49.679637544750804, \"firing_rate\": 49.679637544750804, \"i_spike\": 50.5, \"isi\": 0.06853140618995625}, {\"mouse_code\": 2, \"mouse\": \"m2bayes\", \"neuron_x_mouse\": \"m2bayes3\", \"neuron\": \"3\", \"neuron_code\": 19, \"stim\": 0, \"i_trial\": 0, \"log_firing_rate\": 1.7045181649041958, \"Firing rate\": 50.64285310809525, \"firing_rate\": 50.64285310809525, \"i_spike\": 43.0, \"isi\": 0.07852694359571838}, {\"mouse_code\": 2, \"mouse\": \"m2bayes\", \"neuron_x_mouse\": \"m2bayes3\", \"neuron\": \"3\", \"neuron_code\": 19, \"stim\": 0, \"i_trial\": 1, \"log_firing_rate\": 1.9262870714903915, \"Firing rate\": 84.38923918294199, \"firing_rate\": 84.38923918294199, \"i_spike\": 60.0, \"isi\": 0.058122322959619915}, {\"mouse_code\": 2, \"mouse\": \"m2bayes\", \"neuron_x_mouse\": \"m2bayes3\", \"neuron\": \"3\", \"neuron_code\": 19, \"stim\": 1, \"i_trial\": 0, \"log_firing_rate\": 1.9711358214964263, \"Firing rate\": 93.56982591845632, \"firing_rate\": 93.56982591845632, \"i_spike\": 70.5, \"isi\": 0.04938968876143062}, {\"mouse_code\": 2, \"mouse\": \"m2bayes\", \"neuron_x_mouse\": \"m2bayes3\", \"neuron\": \"3\", \"neuron_code\": 19, \"stim\": 1, \"i_trial\": 1, \"log_firing_rate\": 2.026143063407998, \"Firing rate\": 106.20453539637877, \"firing_rate\": 106.20453539637877, \"i_spike\": 46.0, \"isi\": 0.07608637893107376}, {\"mouse_code\": 2, \"mouse\": \"m2bayes\", \"neuron_x_mouse\": \"m2bayes4\", \"neuron\": \"4\", \"neuron_code\": 20, \"stim\": 0, \"i_trial\": 0, \"log_firing_rate\": 2.4065296540820436, \"Firing rate\": 254.9938194305482, \"firing_rate\": 254.9938194305482, \"i_spike\": 63.5, \"isi\": 0.05449308384786793}, {\"mouse_code\": 2, \"mouse\": \"m2bayes\", \"neuron_x_mouse\": \"m2bayes4\", \"neuron\": \"4\", \"neuron_code\": 20, \"stim\": 0, \"i_trial\": 1, \"log_firing_rate\": 1.7868258309907337, \"Firing rate\": 61.21048645940912, \"firing_rate\": 61.21048645940912, \"i_spike\": 51.0, \"isi\": 0.06857853365319527}, {\"mouse_code\": 2, \"mouse\": \"m2bayes\", \"neuron_x_mouse\": \"m2bayes4\", \"neuron\": \"4\", \"neuron_code\": 20, \"stim\": 1, \"i_trial\": 0, \"log_firing_rate\": 2.0047296509041126, \"Firing rate\": 101.0949940187855, \"firing_rate\": 101.0949940187855, \"i_spike\": 58.5, \"isi\": 0.05843145176959654}, {\"mouse_code\": 2, \"mouse\": \"m2bayes\", \"neuron_x_mouse\": \"m2bayes4\", \"neuron\": \"4\", \"neuron_code\": 20, \"stim\": 1, \"i_trial\": 1, \"log_firing_rate\": 2.0018822549023145, \"Firing rate\": 100.434345766619, \"firing_rate\": 100.434345766619, \"i_spike\": 61.5, \"isi\": 0.05631782328182287}, {\"mouse_code\": 2, \"mouse\": \"m2bayes\", \"neuron_x_mouse\": \"m2bayes5\", \"neuron\": \"5\", \"neuron_code\": 21, \"stim\": 0, \"i_trial\": 0, \"log_firing_rate\": 1.7607299834325008, \"Firing rate\": 57.64079783004314, \"firing_rate\": 57.64079783004314, \"i_spike\": 61.0, \"isi\": 0.05643019820926782}, {\"mouse_code\": 2, \"mouse\": \"m2bayes\", \"neuron_x_mouse\": \"m2bayes5\", \"neuron\": \"5\", \"neuron_code\": 21, \"stim\": 0, \"i_trial\": 1, \"log_firing_rate\": 2.174780147655342, \"Firing rate\": 149.54784103022297, \"firing_rate\": 149.54784103022297, \"i_spike\": 65.0, \"isi\": 0.053356540764212736}, {\"mouse_code\": 2, \"mouse\": \"m2bayes\", \"neuron_x_mouse\": \"m2bayes5\", \"neuron\": \"5\", \"neuron_code\": 21, \"stim\": 1, \"i_trial\": 0, \"log_firing_rate\": 2.5257340067490945, \"Firing rate\": 335.5320472816396, \"firing_rate\": 335.5320472816396, \"i_spike\": 64.5, \"isi\": 0.053011291885151586}, {\"mouse_code\": 2, \"mouse\": \"m2bayes\", \"neuron_x_mouse\": \"m2bayes5\", \"neuron\": \"5\", \"neuron_code\": 21, \"stim\": 1, \"i_trial\": 1, \"log_firing_rate\": 2.2848724575010375, \"Firing rate\": 192.69589256893977, \"firing_rate\": 192.69589256893977, \"i_spike\": 53.5, \"isi\": 0.06362836244144213}, {\"mouse_code\": 2, \"mouse\": \"m2bayes\", \"neuron_x_mouse\": \"m2bayes6\", \"neuron\": \"6\", \"neuron_code\": 22, \"stim\": 0, \"i_trial\": 0, \"log_firing_rate\": 2.109381994125114, \"Firing rate\": 128.641766197116, \"firing_rate\": 128.641766197116, \"i_spike\": 57.0, \"isi\": 0.06023056266521479}, {\"mouse_code\": 2, \"mouse\": \"m2bayes\", \"neuron_x_mouse\": \"m2bayes6\", \"neuron\": \"6\", \"neuron_code\": 22, \"stim\": 0, \"i_trial\": 1, \"log_firing_rate\": 2.208480706165076, \"Firing rate\": 161.6146426080822, \"firing_rate\": 161.6146426080822, \"i_spike\": 73.0, \"isi\": 0.04807845366550131}, {\"mouse_code\": 2, \"mouse\": \"m2bayes\", \"neuron_x_mouse\": \"m2bayes6\", \"neuron\": \"6\", \"neuron_code\": 22, \"stim\": 1, \"i_trial\": 0, \"log_firing_rate\": 2.5321088600147013, \"Firing rate\": 340.49352692445484, \"firing_rate\": 340.49352692445484, \"i_spike\": 70.5, \"isi\": 0.04947186915494997}, {\"mouse_code\": 2, \"mouse\": \"m2bayes\", \"neuron_x_mouse\": \"m2bayes6\", \"neuron\": \"6\", \"neuron_code\": 22, \"stim\": 1, \"i_trial\": 1, \"log_firing_rate\": 1.670968530157766, \"Firing rate\": 46.87794122256195, \"firing_rate\": 46.87794122256195, \"i_spike\": 52.5, \"isi\": 0.0649123044335491}, {\"mouse_code\": 2, \"mouse\": \"m2bayes\", \"neuron_x_mouse\": \"m2bayes7\", \"neuron\": \"7\", \"neuron_code\": 23, \"stim\": 0, \"i_trial\": 0, \"log_firing_rate\": 2.2723755037876967, \"Firing rate\": 187.23002866347792, \"firing_rate\": 187.23002866347792, \"i_spike\": 76.5, \"isi\": 0.04574647452801981}, {\"mouse_code\": 2, \"mouse\": \"m2bayes\", \"neuron_x_mouse\": \"m2bayes7\", \"neuron\": \"7\", \"neuron_code\": 23, \"stim\": 0, \"i_trial\": 1, \"log_firing_rate\": 2.0639155296901097, \"Firing rate\": 115.85519957878917, \"firing_rate\": 115.85519957878917, \"i_spike\": 65.0, \"isi\": 0.05382848699393191}, {\"mouse_code\": 2, \"mouse\": \"m2bayes\", \"neuron_x_mouse\": \"m2bayes7\", \"neuron\": \"7\", \"neuron_code\": 23, \"stim\": 1, \"i_trial\": 0, \"log_firing_rate\": 1.8707536467514145, \"Firing rate\": 74.25977803163126, \"firing_rate\": 74.25977803163126, \"i_spike\": 69.5, \"isi\": 0.05015392799327465}, {\"mouse_code\": 2, \"mouse\": \"m2bayes\", \"neuron_x_mouse\": \"m2bayes7\", \"neuron\": \"7\", \"neuron_code\": 23, \"stim\": 1, \"i_trial\": 1, \"log_firing_rate\": 2.237759965069885, \"Firing rate\": 172.88605524017171, \"firing_rate\": 172.88605524017171, \"i_spike\": 73.5, \"isi\": 0.04697723380066386}, {\"mouse_code\": 3, \"mouse\": \"m3bayes\", \"neuron_x_mouse\": \"m3bayes0\", \"neuron\": \"0\", \"neuron_code\": 24, \"stim\": 0, \"i_trial\": 0, \"log_firing_rate\": 1.6472508106083692, \"Firing rate\": 44.386490757793744, \"firing_rate\": 44.386490757793744, \"i_spike\": 48.0, \"isi\": 0.07152213673408063}, {\"mouse_code\": 3, \"mouse\": \"m3bayes\", \"neuron_x_mouse\": \"m3bayes0\", \"neuron\": \"0\", \"neuron_code\": 24, \"stim\": 0, \"i_trial\": 1, \"log_firing_rate\": 1.6494751934827874, \"Firing rate\": 44.614414049391215, \"firing_rate\": 44.614414049391215, \"i_spike\": 45.0, \"isi\": 0.07368453417273413}, {\"mouse_code\": 3, \"mouse\": \"m3bayes\", \"neuron_x_mouse\": \"m3bayes0\", \"neuron\": \"0\", \"neuron_code\": 24, \"stim\": 1, \"i_trial\": 0, \"log_firing_rate\": 2.166586527291303, \"Firing rate\": 146.75284429416433, \"firing_rate\": 146.75284429416433, \"i_spike\": 46.0, \"isi\": 0.07645467524350516}, {\"mouse_code\": 3, \"mouse\": \"m3bayes\", \"neuron_x_mouse\": \"m3bayes0\", \"neuron\": \"0\", \"neuron_code\": 24, \"stim\": 1, \"i_trial\": 1, \"log_firing_rate\": 2.1531878265978266, \"Firing rate\": 142.29440584794878, \"firing_rate\": 142.29440584794878, \"i_spike\": 63.5, \"isi\": 0.05478274622249258}, {\"mouse_code\": 3, \"mouse\": \"m3bayes\", \"neuron_x_mouse\": \"m3bayes1\", \"neuron\": \"1\", \"neuron_code\": 25, \"stim\": 0, \"i_trial\": 0, \"log_firing_rate\": 1.682551425737031, \"Firing rate\": 48.145026017840365, \"firing_rate\": 48.145026017840365, \"i_spike\": 42.0, \"isi\": 0.08299847545503218}, {\"mouse_code\": 3, \"mouse\": \"m3bayes\", \"neuron_x_mouse\": \"m3bayes1\", \"neuron\": \"1\", \"neuron_code\": 25, \"stim\": 0, \"i_trial\": 1, \"log_firing_rate\": 1.7814412461241305, \"Firing rate\": 60.45625570836639, \"firing_rate\": 60.45625570836639, \"i_spike\": 41.0, \"isi\": 0.08300855724483833}, {\"mouse_code\": 3, \"mouse\": \"m3bayes\", \"neuron_x_mouse\": \"m3bayes1\", \"neuron\": \"1\", \"neuron_code\": 25, \"stim\": 1, \"i_trial\": 0, \"log_firing_rate\": 1.874308553257329, \"Firing rate\": 74.87012414646486, \"firing_rate\": 74.87012414646486, \"i_spike\": 52.5, \"isi\": 0.06496766853095547}, {\"mouse_code\": 3, \"mouse\": \"m3bayes\", \"neuron_x_mouse\": \"m3bayes1\", \"neuron\": \"1\", \"neuron_code\": 25, \"stim\": 1, \"i_trial\": 1, \"log_firing_rate\": 2.1576002470781237, \"Firing rate\": 143.74748236800107, \"firing_rate\": 143.74748236800107, \"i_spike\": 70.0, \"isi\": 0.04930588040999068}, {\"mouse_code\": 3, \"mouse\": \"m3bayes\", \"neuron_x_mouse\": \"m3bayes2\", \"neuron\": \"2\", \"neuron_code\": 26, \"stim\": 0, \"i_trial\": 0, \"log_firing_rate\": 1.8053350748653416, \"Firing rate\": 63.87561209919552, \"firing_rate\": 63.87561209919552, \"i_spike\": 49.5, \"isi\": 0.0697735430110922}, {\"mouse_code\": 3, \"mouse\": \"m3bayes\", \"neuron_x_mouse\": \"m3bayes2\", \"neuron\": \"2\", \"neuron_code\": 26, \"stim\": 0, \"i_trial\": 1, \"log_firing_rate\": 1.7565788560028968, \"Firing rate\": 57.092473108136815, \"firing_rate\": 57.092473108136815, \"i_spike\": 43.0, \"isi\": 0.08130333648128954}, {\"mouse_code\": 3, \"mouse\": \"m3bayes\", \"neuron_x_mouse\": \"m3bayes2\", \"neuron\": \"2\", \"neuron_code\": 26, \"stim\": 1, \"i_trial\": 0, \"log_firing_rate\": 2.129135388263887, \"Firing rate\": 134.62799820025091, \"firing_rate\": 134.62799820025091, \"i_spike\": 63.0, \"isi\": 0.05540552033739925}, {\"mouse_code\": 3, \"mouse\": \"m3bayes\", \"neuron_x_mouse\": \"m3bayes2\", \"neuron\": \"2\", \"neuron_code\": 26, \"stim\": 1, \"i_trial\": 1, \"log_firing_rate\": 1.867834985209349, \"Firing rate\": 73.76239088561275, \"firing_rate\": 73.76239088561275, \"i_spike\": 46.5, \"isi\": 0.07267855579018208}, {\"mouse_code\": 3, \"mouse\": \"m3bayes\", \"neuron_x_mouse\": \"m3bayes3\", \"neuron\": \"3\", \"neuron_code\": 27, \"stim\": 0, \"i_trial\": 0, \"log_firing_rate\": 2.383180865408502, \"Firing rate\": 241.64669819118575, \"firing_rate\": 241.64669819118575, \"i_spike\": 40.5, \"isi\": 0.08575249537957266}, {\"mouse_code\": 3, \"mouse\": \"m3bayes\", \"neuron_x_mouse\": \"m3bayes3\", \"neuron\": \"3\", \"neuron_code\": 27, \"stim\": 0, \"i_trial\": 1, \"log_firing_rate\": 2.1061364302521293, \"Firing rate\": 127.68398551791144, \"firing_rate\": 127.68398551791144, \"i_spike\": 62.0, \"isi\": 0.056389089587666814}, {\"mouse_code\": 3, \"mouse\": \"m3bayes\", \"neuron_x_mouse\": \"m3bayes3\", \"neuron\": \"3\", \"neuron_code\": 27, \"stim\": 1, \"i_trial\": 0, \"log_firing_rate\": 1.7212409471073375, \"Firing rate\": 52.63091823807405, \"firing_rate\": 52.63091823807405, \"i_spike\": 64.0, \"isi\": 0.05438357211740606}, {\"mouse_code\": 3, \"mouse\": \"m3bayes\", \"neuron_x_mouse\": \"m3bayes3\", \"neuron\": \"3\", \"neuron_code\": 27, \"stim\": 1, \"i_trial\": 1, \"log_firing_rate\": 2.062003079379008, \"Firing rate\": 115.34614364475532, \"firing_rate\": 115.34614364475532, \"i_spike\": 57.5, \"isi\": 0.060075887645441355}, {\"mouse_code\": 3, \"mouse\": \"m3bayes\", \"neuron_x_mouse\": \"m3bayes4\", \"neuron\": \"4\", \"neuron_code\": 28, \"stim\": 0, \"i_trial\": 0, \"log_firing_rate\": 2.143718943533745, \"Firing rate\": 139.22555042350763, \"firing_rate\": 139.22555042350763, \"i_spike\": 51.5, \"isi\": 0.06605770805722741}, {\"mouse_code\": 3, \"mouse\": \"m3bayes\", \"neuron_x_mouse\": \"m3bayes4\", \"neuron\": \"4\", \"neuron_code\": 28, \"stim\": 0, \"i_trial\": 1, \"log_firing_rate\": 2.1941032659507838, \"Firing rate\": 156.35193699524586, \"firing_rate\": 156.35193699524586, \"i_spike\": 52.5, \"isi\": 0.06719967000971862}, {\"mouse_code\": 3, \"mouse\": \"m3bayes\", \"neuron_x_mouse\": \"m3bayes4\", \"neuron\": \"4\", \"neuron_code\": 28, \"stim\": 1, \"i_trial\": 0, \"log_firing_rate\": 2.1258369441566747, \"Firing rate\": 133.60937860142624, \"firing_rate\": 133.60937860142624, \"i_spike\": 61.0, \"isi\": 0.05653000074248825}, {\"mouse_code\": 3, \"mouse\": \"m3bayes\", \"neuron_x_mouse\": \"m3bayes4\", \"neuron\": \"4\", \"neuron_code\": 28, \"stim\": 1, \"i_trial\": 1, \"log_firing_rate\": 1.818138147423778, \"Firing rate\": 65.78670690896254, \"firing_rate\": 65.78670690896254, \"i_spike\": 53.0, \"isi\": 0.062199180082434996}, {\"mouse_code\": 3, \"mouse\": \"m3bayes\", \"neuron_x_mouse\": \"m3bayes5\", \"neuron\": \"5\", \"neuron_code\": 29, \"stim\": 0, \"i_trial\": 0, \"log_firing_rate\": 2.035950076486938, \"Firing rate\": 108.63007427614099, \"firing_rate\": 108.63007427614099, \"i_spike\": 74.5, \"isi\": 0.04620193238333041}, {\"mouse_code\": 3, \"mouse\": \"m3bayes\", \"neuron_x_mouse\": \"m3bayes5\", \"neuron\": \"5\", \"neuron_code\": 29, \"stim\": 0, \"i_trial\": 1, \"log_firing_rate\": 1.9532613722518302, \"Firing rate\": 89.79690582907632, \"firing_rate\": 89.79690582907632, \"i_spike\": 42.5, \"isi\": 0.08080045779957075}, {\"mouse_code\": 3, \"mouse\": \"m3bayes\", \"neuron_x_mouse\": \"m3bayes5\", \"neuron\": \"5\", \"neuron_code\": 29, \"stim\": 1, \"i_trial\": 0, \"log_firing_rate\": 2.7273203846744054, \"Firing rate\": 533.7284887217753, \"firing_rate\": 533.7284887217753, \"i_spike\": 72.0, \"isi\": 0.048432573608284735}, {\"mouse_code\": 3, \"mouse\": \"m3bayes\", \"neuron_x_mouse\": \"m3bayes5\", \"neuron\": \"5\", \"neuron_code\": 29, \"stim\": 1, \"i_trial\": 1, \"log_firing_rate\": 2.719140397551265, \"Firing rate\": 523.7697320889134, \"firing_rate\": 523.7697320889134, \"i_spike\": 57.0, \"isi\": 0.0599143497005188}, {\"mouse_code\": 3, \"mouse\": \"m3bayes\", \"neuron_x_mouse\": \"m3bayes6\", \"neuron\": \"6\", \"neuron_code\": 30, \"stim\": 0, \"i_trial\": 0, \"log_firing_rate\": 2.1553555797953736, \"Firing rate\": 143.00643484139562, \"firing_rate\": 143.00643484139562, \"i_spike\": 74.0, \"isi\": 0.04714997531209319}, {\"mouse_code\": 3, \"mouse\": \"m3bayes\", \"neuron_x_mouse\": \"m3bayes6\", \"neuron\": \"6\", \"neuron_code\": 30, \"stim\": 0, \"i_trial\": 1, \"log_firing_rate\": 2.0560185047063513, \"Firing rate\": 113.7675759631486, \"firing_rate\": 113.7675759631486, \"i_spike\": 67.0, \"isi\": 0.051499801054743256}, {\"mouse_code\": 3, \"mouse\": \"m3bayes\", \"neuron_x_mouse\": \"m3bayes6\", \"neuron\": \"6\", \"neuron_code\": 30, \"stim\": 1, \"i_trial\": 0, \"log_firing_rate\": 1.7351945214707531, \"Firing rate\": 54.34937090327542, \"firing_rate\": 54.34937090327542, \"i_spike\": 58.5, \"isi\": 0.059630520658372266}, {\"mouse_code\": 3, \"mouse\": \"m3bayes\", \"neuron_x_mouse\": \"m3bayes6\", \"neuron\": \"6\", \"neuron_code\": 30, \"stim\": 1, \"i_trial\": 1, \"log_firing_rate\": 1.7423144829345345, \"Firing rate\": 55.24773564254638, \"firing_rate\": 55.24773564254638, \"i_spike\": 53.0, \"isi\": 0.0649644075099198}, {\"mouse_code\": 3, \"mouse\": \"m3bayes\", \"neuron_x_mouse\": \"m3bayes7\", \"neuron\": \"7\", \"neuron_code\": 31, \"stim\": 0, \"i_trial\": 0, \"log_firing_rate\": 3.3205117103967767, \"Firing rate\": 2091.759308927522, \"firing_rate\": 2091.759308927522, \"i_spike\": 75.5, \"isi\": 0.04647073070681111}, {\"mouse_code\": 3, \"mouse\": \"m3bayes\", \"neuron_x_mouse\": \"m3bayes7\", \"neuron\": \"7\", \"neuron_code\": 31, \"stim\": 0, \"i_trial\": 1, \"log_firing_rate\": 2.0423512494154092, \"Firing rate\": 110.24305747122644, \"firing_rate\": 110.24305747122644, \"i_spike\": 65.5, \"isi\": 0.05310899279672403}, {\"mouse_code\": 3, \"mouse\": \"m3bayes\", \"neuron_x_mouse\": \"m3bayes7\", \"neuron\": \"7\", \"neuron_code\": 31, \"stim\": 1, \"i_trial\": 0, \"log_firing_rate\": 2.153209395464731, \"Firing rate\": 142.30147295435464, \"firing_rate\": 142.30147295435464, \"i_spike\": 77.0, \"isi\": 0.04525811545283287}, {\"mouse_code\": 3, \"mouse\": \"m3bayes\", \"neuron_x_mouse\": \"m3bayes7\", \"neuron\": \"7\", \"neuron_code\": 31, \"stim\": 1, \"i_trial\": 1, \"log_firing_rate\": 2.0393013641551367, \"Firing rate\": 109.47157442085674, \"firing_rate\": 109.47157442085674, \"i_spike\": 69.0, \"isi\": 0.050424126222942546}]}}, {\"mode\": \"vega-lite\"});\n",
       "</script>"
      ],
      "text/plain": [
       "alt.LayerChart(...)"
      ]
     },
     "execution_count": 5,
     "metadata": {},
     "output_type": "execute_result"
    }
   ],
   "source": [
    "import altair as alt\n",
    "y='isi'\n",
    "color='mouse'\n",
    "x='neuron'\n",
    "\n",
    "base=alt.Chart(df).encode(\n",
    "            x=x,\n",
    "            color=f'{color}',\n",
    "            y=alt.Y(f'mean({y})',\n",
    "                    scale=alt.Scale(zero=False,\n",
    "                                    domain=list(np.quantile(df[y], [.05, .95])))),\n",
    ")\n",
    "highlight = alt.selection(type='single', on='mouseover',\n",
    "                          fields=[color], nearest=True)\n",
    "\n",
    "\n",
    "lines=base.mark_line(clip=True, fill=None, opacity=.6, ).encode(\n",
    "            size=alt.condition(~highlight, alt.value(1), alt.value(3))\n",
    "        )\n",
    "points = base.mark_circle().encode(\n",
    "    opacity=alt.value(0),\n",
    "    #axis=alt.Axis(labels=False, tickCount=0, title='')\n",
    ").add_selection(\n",
    "    highlight\n",
    ")\n",
    "\n",
    "lines+points"
   ]
  },
  {
   "cell_type": "code",
   "execution_count": 6,
   "metadata": {},
   "outputs": [
    {
     "data": {
      "text/html": [
       "\n",
       "<div id=\"altair-viz-c7c3b7d10af84f9facba96bdb9260364\"></div>\n",
       "<script type=\"text/javascript\">\n",
       "  (function(spec, embedOpt){\n",
       "    let outputDiv = document.currentScript.previousElementSibling;\n",
       "    if (outputDiv.id !== \"altair-viz-c7c3b7d10af84f9facba96bdb9260364\") {\n",
       "      outputDiv = document.getElementById(\"altair-viz-c7c3b7d10af84f9facba96bdb9260364\");\n",
       "    }\n",
       "    const paths = {\n",
       "      \"vega\": \"https://cdn.jsdelivr.net/npm//vega@5?noext\",\n",
       "      \"vega-lib\": \"https://cdn.jsdelivr.net/npm//vega-lib?noext\",\n",
       "      \"vega-lite\": \"https://cdn.jsdelivr.net/npm//vega-lite@4.8.1?noext\",\n",
       "      \"vega-embed\": \"https://cdn.jsdelivr.net/npm//vega-embed@6?noext\",\n",
       "    };\n",
       "\n",
       "    function loadScript(lib) {\n",
       "      return new Promise(function(resolve, reject) {\n",
       "        var s = document.createElement('script');\n",
       "        s.src = paths[lib];\n",
       "        s.async = true;\n",
       "        s.onload = () => resolve(paths[lib]);\n",
       "        s.onerror = () => reject(`Error loading script: ${paths[lib]}`);\n",
       "        document.getElementsByTagName(\"head\")[0].appendChild(s);\n",
       "      });\n",
       "    }\n",
       "\n",
       "    function showError(err) {\n",
       "      outputDiv.innerHTML = `<div class=\"error\" style=\"color:red;\">${err}</div>`;\n",
       "      throw err;\n",
       "    }\n",
       "\n",
       "    function displayChart(vegaEmbed) {\n",
       "      vegaEmbed(outputDiv, spec, embedOpt)\n",
       "        .catch(err => showError(`Javascript Error: ${err.message}<br>This usually means there's a typo in your chart specification. See the javascript console for the full traceback.`));\n",
       "    }\n",
       "\n",
       "    if(typeof define === \"function\" && define.amd) {\n",
       "      requirejs.config({paths});\n",
       "      require([\"vega-embed\"], displayChart, err => showError(`Error loading script: ${err.message}`));\n",
       "    } else if (typeof vegaEmbed === \"function\") {\n",
       "      displayChart(vegaEmbed);\n",
       "    } else {\n",
       "      loadScript(\"vega\")\n",
       "        .then(() => loadScript(\"vega-lite\"))\n",
       "        .then(() => loadScript(\"vega-embed\"))\n",
       "        .catch(showError)\n",
       "        .then(() => displayChart(vegaEmbed));\n",
       "    }\n",
       "  })({\"config\": {\"view\": {\"continuousWidth\": 400, \"continuousHeight\": 300}}, \"layer\": [{\"mark\": {\"type\": \"line\", \"clip\": true, \"fill\": null, \"opacity\": 0.6}, \"encoding\": {\"color\": {\"type\": \"nominal\", \"field\": \"mouse\"}, \"size\": {\"condition\": {\"value\": 1, \"selection\": {\"not\": \"selector003\"}}, \"value\": 3}, \"x\": {\"type\": \"nominal\", \"field\": \"neuron\"}, \"y\": {\"type\": \"quantitative\", \"aggregate\": \"mean\", \"field\": \"isi\", \"scale\": {\"domain\": [0.047376836840058716, 0.08437368647214874], \"zero\": false}}}}, {\"mark\": \"point\", \"encoding\": {\"opacity\": {\"value\": 0}, \"x\": {\"type\": \"nominal\", \"field\": \"neuron\"}}, \"selection\": {\"selector002\": {\"type\": \"single\", \"nearest\": true, \"on\": \"mouseover\", \"fields\": [\"neuron\"], \"empty\": \"none\"}}}, {\"mark\": \"circle\", \"encoding\": {\"color\": {\"type\": \"nominal\", \"field\": \"mouse\"}, \"opacity\": {\"value\": 0}, \"x\": {\"type\": \"nominal\", \"field\": \"neuron\"}, \"y\": {\"type\": \"quantitative\", \"aggregate\": \"mean\", \"field\": \"isi\", \"scale\": {\"domain\": [0.047376836840058716, 0.08437368647214874], \"zero\": false}}}, \"selection\": {\"selector003\": {\"type\": \"single\", \"on\": \"mouseover\", \"fields\": [\"mouse\"], \"nearest\": true}}}, {\"mark\": {\"type\": \"text\", \"align\": \"left\", \"dx\": 5, \"dy\": -5}, \"encoding\": {\"color\": {\"type\": \"nominal\", \"field\": \"mouse\"}, \"size\": {\"condition\": {\"value\": 1, \"selection\": {\"not\": \"selector003\"}}, \"value\": 3}, \"text\": {\"condition\": {\"type\": \"quantitative\", \"field\": \"isi\", \"selection\": \"selector002\"}, \"value\": \" \"}, \"x\": {\"type\": \"nominal\", \"field\": \"neuron\"}, \"y\": {\"type\": \"quantitative\", \"aggregate\": \"mean\", \"field\": \"isi\", \"scale\": {\"domain\": [0.047376836840058716, 0.08437368647214874], \"zero\": false}}}}], \"data\": {\"name\": \"data-e3d7eb0f712fd027f48b7f8b58dff5d2\"}, \"$schema\": \"https://vega.github.io/schema/vega-lite/v4.8.1.json\", \"datasets\": {\"data-e3d7eb0f712fd027f48b7f8b58dff5d2\": [{\"mouse_code\": 0, \"mouse\": \"m0bayes\", \"neuron_x_mouse\": \"m0bayes0\", \"neuron\": \"0\", \"neuron_code\": 0, \"stim\": 0, \"i_trial\": 0, \"log_firing_rate\": 1.724221409023608, \"Firing rate\": 52.99335421070193, \"firing_rate\": 52.99335421070193, \"i_spike\": 36.5, \"isi\": 0.0948419485269121}, {\"mouse_code\": 0, \"mouse\": \"m0bayes\", \"neuron_x_mouse\": \"m0bayes0\", \"neuron\": \"0\", \"neuron_code\": 0, \"stim\": 0, \"i_trial\": 1, \"log_firing_rate\": 1.633595543551412, \"Firing rate\": 43.01258496867059, \"firing_rate\": 43.01258496867059, \"i_spike\": 35.5, \"isi\": 0.0978672387598592}, {\"mouse_code\": 0, \"mouse\": \"m0bayes\", \"neuron_x_mouse\": \"m0bayes0\", \"neuron\": \"0\", \"neuron_code\": 0, \"stim\": 1, \"i_trial\": 0, \"log_firing_rate\": 2.344531349718487, \"Firing rate\": 221.07078313566782, \"firing_rate\": 221.07078313566782, \"i_spike\": 42.0, \"isi\": 0.08266492174284572}, {\"mouse_code\": 0, \"mouse\": \"m0bayes\", \"neuron_x_mouse\": \"m0bayes0\", \"neuron\": \"0\", \"neuron_code\": 0, \"stim\": 1, \"i_trial\": 1, \"log_firing_rate\": 1.8795917145446466, \"Firing rate\": 75.78647622599728, \"firing_rate\": 75.78647622599728, \"i_spike\": 45.5, \"isi\": 0.07650058096664691}, {\"mouse_code\": 0, \"mouse\": \"m0bayes\", \"neuron_x_mouse\": \"m0bayes1\", \"neuron\": \"1\", \"neuron_code\": 1, \"stim\": 0, \"i_trial\": 0, \"log_firing_rate\": 2.2219347525706485, \"Firing rate\": 166.69967478826118, \"firing_rate\": 166.69967478826118, \"i_spike\": 50.0, \"isi\": 0.07057894830868736}, {\"mouse_code\": 0, \"mouse\": \"m0bayes\", \"neuron_x_mouse\": \"m0bayes1\", \"neuron\": \"1\", \"neuron_code\": 1, \"stim\": 0, \"i_trial\": 1, \"log_firing_rate\": 2.1470158115320324, \"Firing rate\": 140.28647782884823, \"firing_rate\": 140.28647782884823, \"i_spike\": 43.0, \"isi\": 0.08122912744317543}, {\"mouse_code\": 0, \"mouse\": \"m0bayes\", \"neuron_x_mouse\": \"m0bayes1\", \"neuron\": \"1\", \"neuron_code\": 1, \"stim\": 1, \"i_trial\": 0, \"log_firing_rate\": 1.6813125070215946, \"Firing rate\": 48.0078776587367, \"firing_rate\": 48.0078776587367, \"i_spike\": 47.0, \"isi\": 0.07400854677691202}, {\"mouse_code\": 0, \"mouse\": \"m0bayes\", \"neuron_x_mouse\": \"m0bayes1\", \"neuron\": \"1\", \"neuron_code\": 1, \"stim\": 1, \"i_trial\": 1, \"log_firing_rate\": 1.8358978828771093, \"Firing rate\": 68.53270642474195, \"firing_rate\": 68.53270642474195, \"i_spike\": 47.5, \"isi\": 0.07291918672643871}, {\"mouse_code\": 0, \"mouse\": \"m0bayes\", \"neuron_x_mouse\": \"m0bayes2\", \"neuron\": \"2\", \"neuron_code\": 2, \"stim\": 0, \"i_trial\": 0, \"log_firing_rate\": 1.7315264890044262, \"Firing rate\": 53.892271498464865, \"firing_rate\": 53.892271498464865, \"i_spike\": 46.0, \"isi\": 0.07563878717528616}, {\"mouse_code\": 0, \"mouse\": \"m0bayes\", \"neuron_x_mouse\": \"m0bayes2\", \"neuron\": \"2\", \"neuron_code\": 2, \"stim\": 0, \"i_trial\": 1, \"log_firing_rate\": 1.955137751737005, \"Firing rate\": 90.18571478906371, \"firing_rate\": 90.18571478906371, \"i_spike\": 61.0, \"isi\": 0.057758185744407886}, {\"mouse_code\": 0, \"mouse\": \"m0bayes\", \"neuron_x_mouse\": \"m0bayes2\", \"neuron\": \"2\", \"neuron_code\": 2, \"stim\": 1, \"i_trial\": 0, \"log_firing_rate\": 2.0595324929353915, \"Firing rate\": 114.6918328059711, \"firing_rate\": 114.6918328059711, \"i_spike\": 49.5, \"isi\": 0.070888092203214}, {\"mouse_code\": 0, \"mouse\": \"m0bayes\", \"neuron_x_mouse\": \"m0bayes2\", \"neuron\": \"2\", \"neuron_code\": 2, \"stim\": 1, \"i_trial\": 1, \"log_firing_rate\": 1.9522566057904294, \"Firing rate\": 89.58939541133485, \"firing_rate\": 89.58939541133485, \"i_spike\": 54.5, \"isi\": 0.063327935350839}, {\"mouse_code\": 0, \"mouse\": \"m0bayes\", \"neuron_x_mouse\": \"m0bayes3\", \"neuron\": \"3\", \"neuron_code\": 3, \"stim\": 0, \"i_trial\": 0, \"log_firing_rate\": 2.024529225937566, \"Firing rate\": 105.81061190719379, \"firing_rate\": 105.81061190719379, \"i_spike\": 49.0, \"isi\": 0.0717106775880542}, {\"mouse_code\": 0, \"mouse\": \"m0bayes\", \"neuron_x_mouse\": \"m0bayes3\", \"neuron\": \"3\", \"neuron_code\": 3, \"stim\": 0, \"i_trial\": 1, \"log_firing_rate\": 2.1370690226916045, \"Firing rate\": 137.10996585693772, \"firing_rate\": 137.10996585693772, \"i_spike\": 54.5, \"isi\": 0.06293944602055462}, {\"mouse_code\": 0, \"mouse\": \"m0bayes\", \"neuron_x_mouse\": \"m0bayes3\", \"neuron\": \"3\", \"neuron_code\": 3, \"stim\": 1, \"i_trial\": 0, \"log_firing_rate\": 1.8514619205312282, \"Firing rate\": 71.03328844204746, \"firing_rate\": 71.03328844204746, \"i_spike\": 46.0, \"isi\": 0.07499532927243473}, {\"mouse_code\": 0, \"mouse\": \"m0bayes\", \"neuron_x_mouse\": \"m0bayes3\", \"neuron\": \"3\", \"neuron_code\": 3, \"stim\": 1, \"i_trial\": 1, \"log_firing_rate\": 1.9343685803873407, \"Firing rate\": 85.9742865168645, \"firing_rate\": 85.9742865168645, \"i_spike\": 55.5, \"isi\": 0.06176737410910938}, {\"mouse_code\": 0, \"mouse\": \"m0bayes\", \"neuron_x_mouse\": \"m0bayes4\", \"neuron\": \"4\", \"neuron_code\": 4, \"stim\": 0, \"i_trial\": 0, \"log_firing_rate\": 1.8883774915531348, \"Firing rate\": 77.33524959955103, \"firing_rate\": 77.33524959955103, \"i_spike\": 49.0, \"isi\": 0.07183092203336713}, {\"mouse_code\": 0, \"mouse\": \"m0bayes\", \"neuron_x_mouse\": \"m0bayes4\", \"neuron\": \"4\", \"neuron_code\": 4, \"stim\": 0, \"i_trial\": 1, \"log_firing_rate\": 2.0442166066939214, \"Firing rate\": 110.71758561672713, \"firing_rate\": 110.71758561672713, \"i_spike\": 53.5, \"isi\": 0.06485125938197431}, {\"mouse_code\": 0, \"mouse\": \"m0bayes\", \"neuron_x_mouse\": \"m0bayes4\", \"neuron\": \"4\", \"neuron_code\": 4, \"stim\": 1, \"i_trial\": 0, \"log_firing_rate\": 1.8428532693330415, \"Firing rate\": 69.63911917389251, \"firing_rate\": 69.63911917389251, \"i_spike\": 53.0, \"isi\": 0.06647147997818734}, {\"mouse_code\": 0, \"mouse\": \"m0bayes\", \"neuron_x_mouse\": \"m0bayes4\", \"neuron\": \"4\", \"neuron_code\": 4, \"stim\": 1, \"i_trial\": 1, \"log_firing_rate\": 1.9085113355364822, \"Firing rate\": 81.00490845258145, \"firing_rate\": 81.00490845258145, \"i_spike\": 62.0, \"isi\": 0.05668414790977293}, {\"mouse_code\": 0, \"mouse\": \"m0bayes\", \"neuron_x_mouse\": \"m0bayes5\", \"neuron\": \"5\", \"neuron_code\": 5, \"stim\": 0, \"i_trial\": 0, \"log_firing_rate\": 1.979645896781979, \"Firing rate\": 95.4214247504213, \"firing_rate\": 95.4214247504213, \"i_spike\": 55.5, \"isi\": 0.06318575603799689}, {\"mouse_code\": 0, \"mouse\": \"m0bayes\", \"neuron_x_mouse\": \"m0bayes5\", \"neuron\": \"5\", \"neuron_code\": 5, \"stim\": 0, \"i_trial\": 1, \"log_firing_rate\": 2.0344496644605377, \"Firing rate\": 108.25542378031544, \"firing_rate\": 108.25542378031544, \"i_spike\": 47.0, \"isi\": 0.0735133104011012}, {\"mouse_code\": 0, \"mouse\": \"m0bayes\", \"neuron_x_mouse\": \"m0bayes5\", \"neuron\": \"5\", \"neuron_code\": 5, \"stim\": 1, \"i_trial\": 0, \"log_firing_rate\": 1.874755767717839, \"Firing rate\": 74.94726131730927, \"firing_rate\": 74.94726131730927, \"i_spike\": 66.0, \"isi\": 0.05336031678789983}, {\"mouse_code\": 0, \"mouse\": \"m0bayes\", \"neuron_x_mouse\": \"m0bayes5\", \"neuron\": \"5\", \"neuron_code\": 5, \"stim\": 1, \"i_trial\": 1, \"log_firing_rate\": 2.911060797105292, \"Firing rate\": 814.8183428710997, \"firing_rate\": 814.8183428710997, \"i_spike\": 59.0, \"isi\": 0.05970307338236441}, {\"mouse_code\": 0, \"mouse\": \"m0bayes\", \"neuron_x_mouse\": \"m0bayes6\", \"neuron\": \"6\", \"neuron_code\": 6, \"stim\": 0, \"i_trial\": 0, \"log_firing_rate\": 2.4622714214573374, \"Firing rate\": 289.9154909378065, \"firing_rate\": 289.9154909378065, \"i_spike\": 70.5, \"isi\": 0.049445091033082846}, {\"mouse_code\": 0, \"mouse\": \"m0bayes\", \"neuron_x_mouse\": \"m0bayes6\", \"neuron\": \"6\", \"neuron_code\": 6, \"stim\": 0, \"i_trial\": 1, \"log_firing_rate\": 2.179314721619562, \"Firing rate\": 151.1174865553453, \"firing_rate\": 151.1174865553453, \"i_spike\": 64.5, \"isi\": 0.05426342621277034}, {\"mouse_code\": 0, \"mouse\": \"m0bayes\", \"neuron_x_mouse\": \"m0bayes6\", \"neuron\": \"6\", \"neuron_code\": 6, \"stim\": 1, \"i_trial\": 0, \"log_firing_rate\": 2.0894840220284823, \"Firing rate\": 122.88079771161411, \"firing_rate\": 122.88079771161411, \"i_spike\": 74.0, \"isi\": 0.04740309509892094}, {\"mouse_code\": 0, \"mouse\": \"m0bayes\", \"neuron_x_mouse\": \"m0bayes6\", \"neuron\": \"6\", \"neuron_code\": 6, \"stim\": 1, \"i_trial\": 1, \"log_firing_rate\": 1.8548442556242868, \"Firing rate\": 71.58866367186889, \"firing_rate\": 71.58866367186889, \"i_spike\": 64.0, \"isi\": 0.054430430475563396}, {\"mouse_code\": 0, \"mouse\": \"m0bayes\", \"neuron_x_mouse\": \"m0bayes7\", \"neuron\": \"7\", \"neuron_code\": 7, \"stim\": 0, \"i_trial\": 0, \"log_firing_rate\": 1.971253097086805, \"Firing rate\": 93.59509664785008, \"firing_rate\": 93.59509664785008, \"i_spike\": 61.0, \"isi\": 0.057003082578679865}, {\"mouse_code\": 0, \"mouse\": \"m0bayes\", \"neuron_x_mouse\": \"m0bayes7\", \"neuron\": \"7\", \"neuron_code\": 7, \"stim\": 0, \"i_trial\": 1, \"log_firing_rate\": 2.4992099451361254, \"Firing rate\": 315.6530173504206, \"firing_rate\": 315.6530173504206, \"i_spike\": 74.0, \"isi\": 0.047564082012304415}, {\"mouse_code\": 0, \"mouse\": \"m0bayes\", \"neuron_x_mouse\": \"m0bayes7\", \"neuron\": \"7\", \"neuron_code\": 7, \"stim\": 1, \"i_trial\": 0, \"log_firing_rate\": 1.8531634465961362, \"Firing rate\": 71.31213626377946, \"firing_rate\": 71.31213626377946, \"i_spike\": 73.5, \"isi\": 0.04736269777759444}, {\"mouse_code\": 0, \"mouse\": \"m0bayes\", \"neuron_x_mouse\": \"m0bayes7\", \"neuron\": \"7\", \"neuron_code\": 7, \"stim\": 1, \"i_trial\": 1, \"log_firing_rate\": 1.8498536210116385, \"Firing rate\": 70.7707211411111, \"firing_rate\": 70.7707211411111, \"i_spike\": 65.0, \"isi\": 0.05415564160923628}, {\"mouse_code\": 1, \"mouse\": \"m1bayes\", \"neuron_x_mouse\": \"m1bayes0\", \"neuron\": \"0\", \"neuron_code\": 8, \"stim\": 0, \"i_trial\": 0, \"log_firing_rate\": 1.7341074130637828, \"Firing rate\": 54.21349588245268, \"firing_rate\": 54.21349588245268, \"i_spike\": 45.0, \"isi\": 0.07796135286974609}, {\"mouse_code\": 1, \"mouse\": \"m1bayes\", \"neuron_x_mouse\": \"m1bayes0\", \"neuron\": \"0\", \"neuron_code\": 8, \"stim\": 0, \"i_trial\": 1, \"log_firing_rate\": 1.6460087625546405, \"Firing rate\": 44.25973023492653, \"firing_rate\": 44.25973023492653, \"i_spike\": 39.0, \"isi\": 0.08973346027463594}, {\"mouse_code\": 1, \"mouse\": \"m1bayes\", \"neuron_x_mouse\": \"m1bayes0\", \"neuron\": \"0\", \"neuron_code\": 8, \"stim\": 1, \"i_trial\": 0, \"log_firing_rate\": 2.0434431340849977, \"Firing rate\": 110.52057458059855, \"firing_rate\": 110.52057458059855, \"i_spike\": 48.0, \"isi\": 0.07320440372947888}, {\"mouse_code\": 1, \"mouse\": \"m1bayes\", \"neuron_x_mouse\": \"m1bayes0\", \"neuron\": \"0\", \"neuron_code\": 8, \"stim\": 1, \"i_trial\": 1, \"log_firing_rate\": 1.6615596584671661, \"Firing rate\": 45.873265697765774, \"firing_rate\": 45.873265697765774, \"i_spike\": 50.5, \"isi\": 0.06967096483147542}, {\"mouse_code\": 1, \"mouse\": \"m1bayes\", \"neuron_x_mouse\": \"m1bayes1\", \"neuron\": \"1\", \"neuron_code\": 9, \"stim\": 0, \"i_trial\": 0, \"log_firing_rate\": 1.898290262055726, \"Firing rate\": 79.12072571339543, \"firing_rate\": 79.12072571339543, \"i_spike\": 41.0, \"isi\": 0.08503618329799144}, {\"mouse_code\": 1, \"mouse\": \"m1bayes\", \"neuron_x_mouse\": \"m1bayes1\", \"neuron\": \"1\", \"neuron_code\": 9, \"stim\": 0, \"i_trial\": 1, \"log_firing_rate\": 2.605991091234577, \"Firing rate\": 403.63711299770563, \"firing_rate\": 403.63711299770563, \"i_spike\": 54.5, \"isi\": 0.06392431842878664}, {\"mouse_code\": 1, \"mouse\": \"m1bayes\", \"neuron_x_mouse\": \"m1bayes1\", \"neuron\": \"1\", \"neuron_code\": 9, \"stim\": 1, \"i_trial\": 0, \"log_firing_rate\": 1.6226117576068013, \"Firing rate\": 41.93839034468914, \"firing_rate\": 41.93839034468914, \"i_spike\": 47.0, \"isi\": 0.07468326221891197}, {\"mouse_code\": 1, \"mouse\": \"m1bayes\", \"neuron_x_mouse\": \"m1bayes1\", \"neuron\": \"1\", \"neuron_code\": 9, \"stim\": 1, \"i_trial\": 1, \"log_firing_rate\": 2.0753698178572164, \"Firing rate\": 118.95147121824378, \"firing_rate\": 118.95147121824378, \"i_spike\": 53.0, \"isi\": 0.06363212848132532}, {\"mouse_code\": 1, \"mouse\": \"m1bayes\", \"neuron_x_mouse\": \"m1bayes2\", \"neuron\": \"2\", \"neuron_code\": 10, \"stim\": 0, \"i_trial\": 0, \"log_firing_rate\": 2.1116016165240143, \"Firing rate\": 129.3009204605622, \"firing_rate\": 129.3009204605622, \"i_spike\": 57.0, \"isi\": 0.06160690753781567}, {\"mouse_code\": 1, \"mouse\": \"m1bayes\", \"neuron_x_mouse\": \"m1bayes2\", \"neuron\": \"2\", \"neuron_code\": 10, \"stim\": 0, \"i_trial\": 1, \"log_firing_rate\": 1.6600396721514916, \"Firing rate\": 45.71299458446367, \"firing_rate\": 45.71299458446367, \"i_spike\": 39.5, \"isi\": 0.08891725295215056}, {\"mouse_code\": 1, \"mouse\": \"m1bayes\", \"neuron_x_mouse\": \"m1bayes2\", \"neuron\": \"2\", \"neuron_code\": 10, \"stim\": 1, \"i_trial\": 0, \"log_firing_rate\": 1.731733174186021, \"Firing rate\": 53.91792548515964, \"firing_rate\": 53.91792548515964, \"i_spike\": 52.5, \"isi\": 0.06470723404634107}, {\"mouse_code\": 1, \"mouse\": \"m1bayes\", \"neuron_x_mouse\": \"m1bayes2\", \"neuron\": \"2\", \"neuron_code\": 10, \"stim\": 1, \"i_trial\": 1, \"log_firing_rate\": 1.8482826941900048, \"Firing rate\": 70.51519223378256, \"firing_rate\": 70.51519223378256, \"i_spike\": 54.5, \"isi\": 0.06467062335601319}, {\"mouse_code\": 1, \"mouse\": \"m1bayes\", \"neuron_x_mouse\": \"m1bayes3\", \"neuron\": \"3\", \"neuron_code\": 11, \"stim\": 0, \"i_trial\": 0, \"log_firing_rate\": 2.217630417429182, \"Firing rate\": 165.0556584472852, \"firing_rate\": 165.0556584472852, \"i_spike\": 49.0, \"isi\": 0.07154153492781877}, {\"mouse_code\": 1, \"mouse\": \"m1bayes\", \"neuron_x_mouse\": \"m1bayes3\", \"neuron\": \"3\", \"neuron_code\": 11, \"stim\": 0, \"i_trial\": 1, \"log_firing_rate\": 2.0376342051247325, \"Firing rate\": 109.05214318587271, \"firing_rate\": 109.05214318587271, \"i_spike\": 48.5, \"isi\": 0.07200322164401429}, {\"mouse_code\": 1, \"mouse\": \"m1bayes\", \"neuron_x_mouse\": \"m1bayes3\", \"neuron\": \"3\", \"neuron_code\": 11, \"stim\": 1, \"i_trial\": 0, \"log_firing_rate\": 1.9330603104315345, \"Firing rate\": 85.71568702550552, \"firing_rate\": 85.71568702550552, \"i_spike\": 50.5, \"isi\": 0.0697356806651148}, {\"mouse_code\": 1, \"mouse\": \"m1bayes\", \"neuron_x_mouse\": \"m1bayes3\", \"neuron\": \"3\", \"neuron_code\": 11, \"stim\": 1, \"i_trial\": 1, \"log_firing_rate\": 1.9856630010403102, \"Firing rate\": 96.75267943115182, \"firing_rate\": 96.75267943115182, \"i_spike\": 61.5, \"isi\": 0.05581904135800377}, {\"mouse_code\": 1, \"mouse\": \"m1bayes\", \"neuron_x_mouse\": \"m1bayes4\", \"neuron\": \"4\", \"neuron_code\": 12, \"stim\": 0, \"i_trial\": 0, \"log_firing_rate\": 2.052642610484312, \"Firing rate\": 112.88665657194355, \"firing_rate\": 112.88665657194355, \"i_spike\": 66.0, \"isi\": 0.05210960365188146}, {\"mouse_code\": 1, \"mouse\": \"m1bayes\", \"neuron_x_mouse\": \"m1bayes4\", \"neuron\": \"4\", \"neuron_code\": 12, \"stim\": 0, \"i_trial\": 1, \"log_firing_rate\": 1.7318444741668373, \"Firing rate\": 53.93174521660299, \"firing_rate\": 53.93174521660299, \"i_spike\": 51.5, \"isi\": 0.06775002519325103}, {\"mouse_code\": 1, \"mouse\": \"m1bayes\", \"neuron_x_mouse\": \"m1bayes4\", \"neuron\": \"4\", \"neuron_code\": 12, \"stim\": 1, \"i_trial\": 0, \"log_firing_rate\": 2.0317102209182014, \"Firing rate\": 107.57471914842182, \"firing_rate\": 107.57471914842182, \"i_spike\": 54.5, \"isi\": 0.06408368280697221}, {\"mouse_code\": 1, \"mouse\": \"m1bayes\", \"neuron_x_mouse\": \"m1bayes4\", \"neuron\": \"4\", \"neuron_code\": 12, \"stim\": 1, \"i_trial\": 1, \"log_firing_rate\": 2.013777306759153, \"Firing rate\": 103.22319723046351, \"firing_rate\": 103.22319723046351, \"i_spike\": 53.5, \"isi\": 0.0653131823395546}, {\"mouse_code\": 1, \"mouse\": \"m1bayes\", \"neuron_x_mouse\": \"m1bayes5\", \"neuron\": \"5\", \"neuron_code\": 13, \"stim\": 0, \"i_trial\": 0, \"log_firing_rate\": 1.7051926194276952, \"Firing rate\": 50.72156199964211, \"firing_rate\": 50.72156199964211, \"i_spike\": 51.5, \"isi\": 0.06705381632419095}, {\"mouse_code\": 1, \"mouse\": \"m1bayes\", \"neuron_x_mouse\": \"m1bayes5\", \"neuron\": \"5\", \"neuron_code\": 13, \"stim\": 0, \"i_trial\": 1, \"log_firing_rate\": 2.3107737224420086, \"Firing rate\": 204.5378669042609, \"firing_rate\": 204.5378669042609, \"i_spike\": 54.5, \"isi\": 0.0645491389100532}, {\"mouse_code\": 1, \"mouse\": \"m1bayes\", \"neuron_x_mouse\": \"m1bayes5\", \"neuron\": \"5\", \"neuron_code\": 13, \"stim\": 1, \"i_trial\": 0, \"log_firing_rate\": 2.2957869978251373, \"Firing rate\": 197.6000261954281, \"firing_rate\": 197.6000261954281, \"i_spike\": 55.0, \"isi\": 0.06299583323588677}, {\"mouse_code\": 1, \"mouse\": \"m1bayes\", \"neuron_x_mouse\": \"m1bayes5\", \"neuron\": \"5\", \"neuron_code\": 13, \"stim\": 1, \"i_trial\": 1, \"log_firing_rate\": 1.7760184526833378, \"Firing rate\": 59.706065447957386, \"firing_rate\": 59.706065447957386, \"i_spike\": 56.5, \"isi\": 0.062087718668874595}, {\"mouse_code\": 1, \"mouse\": \"m1bayes\", \"neuron_x_mouse\": \"m1bayes6\", \"neuron\": \"6\", \"neuron_code\": 14, \"stim\": 0, \"i_trial\": 0, \"log_firing_rate\": 2.3029208886292576, \"Firing rate\": 200.8726868261385, \"firing_rate\": 200.8726868261385, \"i_spike\": 63.0, \"isi\": 0.055780389758700456}, {\"mouse_code\": 1, \"mouse\": \"m1bayes\", \"neuron_x_mouse\": \"m1bayes6\", \"neuron\": \"6\", \"neuron_code\": 14, \"stim\": 0, \"i_trial\": 1, \"log_firing_rate\": 1.8875745912534234, \"Firing rate\": 77.19240842521681, \"firing_rate\": 77.19240842521681, \"i_spike\": 66.0, \"isi\": 0.0524040052299219}, {\"mouse_code\": 1, \"mouse\": \"m1bayes\", \"neuron_x_mouse\": \"m1bayes6\", \"neuron\": \"6\", \"neuron_code\": 14, \"stim\": 1, \"i_trial\": 0, \"log_firing_rate\": 2.1766148155602663, \"Firing rate\": 150.18093905254216, \"firing_rate\": 150.18093905254216, \"i_spike\": 63.0, \"isi\": 0.05576717720977659}, {\"mouse_code\": 1, \"mouse\": \"m1bayes\", \"neuron_x_mouse\": \"m1bayes6\", \"neuron\": \"6\", \"neuron_code\": 14, \"stim\": 1, \"i_trial\": 1, \"log_firing_rate\": 2.000275177054359, \"Firing rate\": 100.06338193619592, \"firing_rate\": 100.06338193619592, \"i_spike\": 65.5, \"isi\": 0.05361593540993121}, {\"mouse_code\": 1, \"mouse\": \"m1bayes\", \"neuron_x_mouse\": \"m1bayes7\", \"neuron\": \"7\", \"neuron_code\": 15, \"stim\": 0, \"i_trial\": 0, \"log_firing_rate\": 1.9977287586285841, \"Firing rate\": 99.47839246876103, \"firing_rate\": 99.47839246876103, \"i_spike\": 64.5, \"isi\": 0.05460516478575232}, {\"mouse_code\": 1, \"mouse\": \"m1bayes\", \"neuron_x_mouse\": \"m1bayes7\", \"neuron\": \"7\", \"neuron_code\": 15, \"stim\": 0, \"i_trial\": 1, \"log_firing_rate\": 2.2381567567607585, \"Firing rate\": 173.04408418264865, \"firing_rate\": 173.04408418264865, \"i_spike\": 64.5, \"isi\": 0.05405100808817402}, {\"mouse_code\": 1, \"mouse\": \"m1bayes\", \"neuron_x_mouse\": \"m1bayes7\", \"neuron\": \"7\", \"neuron_code\": 15, \"stim\": 1, \"i_trial\": 0, \"log_firing_rate\": 2.636569444672407, \"Firing rate\": 433.08131288555904, \"firing_rate\": 433.08131288555904, \"i_spike\": 65.0, \"isi\": 0.0537325222023488}, {\"mouse_code\": 1, \"mouse\": \"m1bayes\", \"neuron_x_mouse\": \"m1bayes7\", \"neuron\": \"7\", \"neuron_code\": 15, \"stim\": 1, \"i_trial\": 1, \"log_firing_rate\": 2.320310074227337, \"Firing rate\": 209.07883630474004, \"firing_rate\": 209.07883630474004, \"i_spike\": 61.0, \"isi\": 0.05584760225198829}, {\"mouse_code\": 2, \"mouse\": \"m2bayes\", \"neuron_x_mouse\": \"m2bayes0\", \"neuron\": \"0\", \"neuron_code\": 16, \"stim\": 0, \"i_trial\": 0, \"log_firing_rate\": 1.7647270340477952, \"Firing rate\": 58.17374649430658, \"firing_rate\": 58.17374649430658, \"i_spike\": 40.5, \"isi\": 0.08314333522415522}, {\"mouse_code\": 2, \"mouse\": \"m2bayes\", \"neuron_x_mouse\": \"m2bayes0\", \"neuron\": \"0\", \"neuron_code\": 16, \"stim\": 0, \"i_trial\": 1, \"log_firing_rate\": 1.9859686130233412, \"Firing rate\": 96.82078802022427, \"firing_rate\": 96.82078802022427, \"i_spike\": 43.0, \"isi\": 0.08074346121851099}, {\"mouse_code\": 2, \"mouse\": \"m2bayes\", \"neuron_x_mouse\": \"m2bayes0\", \"neuron\": \"0\", \"neuron_code\": 16, \"stim\": 1, \"i_trial\": 0, \"log_firing_rate\": 1.9811000902140905, \"Firing rate\": 95.74146976310267, \"firing_rate\": 95.74146976310267, \"i_spike\": 59.0, \"isi\": 0.05857522629050065}, {\"mouse_code\": 2, \"mouse\": \"m2bayes\", \"neuron_x_mouse\": \"m2bayes0\", \"neuron\": \"0\", \"neuron_code\": 16, \"stim\": 1, \"i_trial\": 1, \"log_firing_rate\": 1.8798325179328774, \"Firing rate\": 75.82850922755468, \"firing_rate\": 75.82850922755468, \"i_spike\": 56.5, \"isi\": 0.06114886860734498}, {\"mouse_code\": 2, \"mouse\": \"m2bayes\", \"neuron_x_mouse\": \"m2bayes1\", \"neuron\": \"1\", \"neuron_code\": 17, \"stim\": 0, \"i_trial\": 0, \"log_firing_rate\": 1.7794329879799822, \"Firing rate\": 60.177340157103885, \"firing_rate\": 60.177340157103885, \"i_spike\": 31.5, \"isi\": 0.10845009506350306}, {\"mouse_code\": 2, \"mouse\": \"m2bayes\", \"neuron_x_mouse\": \"m2bayes1\", \"neuron\": \"1\", \"neuron_code\": 17, \"stim\": 0, \"i_trial\": 1, \"log_firing_rate\": 1.7294277573055528, \"Firing rate\": 53.63246491220156, \"firing_rate\": 53.63246491220156, \"i_spike\": 48.0, \"isi\": 0.07257675394359081}, {\"mouse_code\": 2, \"mouse\": \"m2bayes\", \"neuron_x_mouse\": \"m2bayes1\", \"neuron\": \"1\", \"neuron_code\": 17, \"stim\": 1, \"i_trial\": 0, \"log_firing_rate\": 1.963155298221999, \"Firing rate\": 91.86610393424188, \"firing_rate\": 91.86610393424188, \"i_spike\": 45.5, \"isi\": 0.07666968766533568}, {\"mouse_code\": 2, \"mouse\": \"m2bayes\", \"neuron_x_mouse\": \"m2bayes1\", \"neuron\": \"1\", \"neuron_code\": 17, \"stim\": 1, \"i_trial\": 1, \"log_firing_rate\": 1.9526934948604882, \"Firing rate\": 89.67956538381998, \"firing_rate\": 89.67956538381998, \"i_spike\": 65.5, \"isi\": 0.051240624172231124}, {\"mouse_code\": 2, \"mouse\": \"m2bayes\", \"neuron_x_mouse\": \"m2bayes2\", \"neuron\": \"2\", \"neuron_code\": 18, \"stim\": 0, \"i_trial\": 0, \"log_firing_rate\": 1.7172877240008102, \"Firing rate\": 52.15401216955962, \"firing_rate\": 52.15401216955962, \"i_spike\": 49.5, \"isi\": 0.07096046167551306}, {\"mouse_code\": 2, \"mouse\": \"m2bayes\", \"neuron_x_mouse\": \"m2bayes2\", \"neuron\": \"2\", \"neuron_code\": 18, \"stim\": 0, \"i_trial\": 1, \"log_firing_rate\": 1.7196535179367844, \"Firing rate\": 52.43889335045658, \"firing_rate\": 52.43889335045658, \"i_spike\": 46.5, \"isi\": 0.07315941137391924}, {\"mouse_code\": 2, \"mouse\": \"m2bayes\", \"neuron_x_mouse\": \"m2bayes2\", \"neuron\": \"2\", \"neuron_code\": 18, \"stim\": 1, \"i_trial\": 0, \"log_firing_rate\": 2.076302978927619, \"Firing rate\": 119.20733498151473, \"firing_rate\": 119.20733498151473, \"i_spike\": 60.5, \"isi\": 0.057931681767005916}, {\"mouse_code\": 2, \"mouse\": \"m2bayes\", \"neuron_x_mouse\": \"m2bayes2\", \"neuron\": \"2\", \"neuron_code\": 18, \"stim\": 1, \"i_trial\": 1, \"log_firing_rate\": 1.6961784186321127, \"Firing rate\": 49.679637544750804, \"firing_rate\": 49.679637544750804, \"i_spike\": 50.5, \"isi\": 0.06853140618995625}, {\"mouse_code\": 2, \"mouse\": \"m2bayes\", \"neuron_x_mouse\": \"m2bayes3\", \"neuron\": \"3\", \"neuron_code\": 19, \"stim\": 0, \"i_trial\": 0, \"log_firing_rate\": 1.7045181649041958, \"Firing rate\": 50.64285310809525, \"firing_rate\": 50.64285310809525, \"i_spike\": 43.0, \"isi\": 0.07852694359571838}, {\"mouse_code\": 2, \"mouse\": \"m2bayes\", \"neuron_x_mouse\": \"m2bayes3\", \"neuron\": \"3\", \"neuron_code\": 19, \"stim\": 0, \"i_trial\": 1, \"log_firing_rate\": 1.9262870714903915, \"Firing rate\": 84.38923918294199, \"firing_rate\": 84.38923918294199, \"i_spike\": 60.0, \"isi\": 0.058122322959619915}, {\"mouse_code\": 2, \"mouse\": \"m2bayes\", \"neuron_x_mouse\": \"m2bayes3\", \"neuron\": \"3\", \"neuron_code\": 19, \"stim\": 1, \"i_trial\": 0, \"log_firing_rate\": 1.9711358214964263, \"Firing rate\": 93.56982591845632, \"firing_rate\": 93.56982591845632, \"i_spike\": 70.5, \"isi\": 0.04938968876143062}, {\"mouse_code\": 2, \"mouse\": \"m2bayes\", \"neuron_x_mouse\": \"m2bayes3\", \"neuron\": \"3\", \"neuron_code\": 19, \"stim\": 1, \"i_trial\": 1, \"log_firing_rate\": 2.026143063407998, \"Firing rate\": 106.20453539637877, \"firing_rate\": 106.20453539637877, \"i_spike\": 46.0, \"isi\": 0.07608637893107376}, {\"mouse_code\": 2, \"mouse\": \"m2bayes\", \"neuron_x_mouse\": \"m2bayes4\", \"neuron\": \"4\", \"neuron_code\": 20, \"stim\": 0, \"i_trial\": 0, \"log_firing_rate\": 2.4065296540820436, \"Firing rate\": 254.9938194305482, \"firing_rate\": 254.9938194305482, \"i_spike\": 63.5, \"isi\": 0.05449308384786793}, {\"mouse_code\": 2, \"mouse\": \"m2bayes\", \"neuron_x_mouse\": \"m2bayes4\", \"neuron\": \"4\", \"neuron_code\": 20, \"stim\": 0, \"i_trial\": 1, \"log_firing_rate\": 1.7868258309907337, \"Firing rate\": 61.21048645940912, \"firing_rate\": 61.21048645940912, \"i_spike\": 51.0, \"isi\": 0.06857853365319527}, {\"mouse_code\": 2, \"mouse\": \"m2bayes\", \"neuron_x_mouse\": \"m2bayes4\", \"neuron\": \"4\", \"neuron_code\": 20, \"stim\": 1, \"i_trial\": 0, \"log_firing_rate\": 2.0047296509041126, \"Firing rate\": 101.0949940187855, \"firing_rate\": 101.0949940187855, \"i_spike\": 58.5, \"isi\": 0.05843145176959654}, {\"mouse_code\": 2, \"mouse\": \"m2bayes\", \"neuron_x_mouse\": \"m2bayes4\", \"neuron\": \"4\", \"neuron_code\": 20, \"stim\": 1, \"i_trial\": 1, \"log_firing_rate\": 2.0018822549023145, \"Firing rate\": 100.434345766619, \"firing_rate\": 100.434345766619, \"i_spike\": 61.5, \"isi\": 0.05631782328182287}, {\"mouse_code\": 2, \"mouse\": \"m2bayes\", \"neuron_x_mouse\": \"m2bayes5\", \"neuron\": \"5\", \"neuron_code\": 21, \"stim\": 0, \"i_trial\": 0, \"log_firing_rate\": 1.7607299834325008, \"Firing rate\": 57.64079783004314, \"firing_rate\": 57.64079783004314, \"i_spike\": 61.0, \"isi\": 0.05643019820926782}, {\"mouse_code\": 2, \"mouse\": \"m2bayes\", \"neuron_x_mouse\": \"m2bayes5\", \"neuron\": \"5\", \"neuron_code\": 21, \"stim\": 0, \"i_trial\": 1, \"log_firing_rate\": 2.174780147655342, \"Firing rate\": 149.54784103022297, \"firing_rate\": 149.54784103022297, \"i_spike\": 65.0, \"isi\": 0.053356540764212736}, {\"mouse_code\": 2, \"mouse\": \"m2bayes\", \"neuron_x_mouse\": \"m2bayes5\", \"neuron\": \"5\", \"neuron_code\": 21, \"stim\": 1, \"i_trial\": 0, \"log_firing_rate\": 2.5257340067490945, \"Firing rate\": 335.5320472816396, \"firing_rate\": 335.5320472816396, \"i_spike\": 64.5, \"isi\": 0.053011291885151586}, {\"mouse_code\": 2, \"mouse\": \"m2bayes\", \"neuron_x_mouse\": \"m2bayes5\", \"neuron\": \"5\", \"neuron_code\": 21, \"stim\": 1, \"i_trial\": 1, \"log_firing_rate\": 2.2848724575010375, \"Firing rate\": 192.69589256893977, \"firing_rate\": 192.69589256893977, \"i_spike\": 53.5, \"isi\": 0.06362836244144213}, {\"mouse_code\": 2, \"mouse\": \"m2bayes\", \"neuron_x_mouse\": \"m2bayes6\", \"neuron\": \"6\", \"neuron_code\": 22, \"stim\": 0, \"i_trial\": 0, \"log_firing_rate\": 2.109381994125114, \"Firing rate\": 128.641766197116, \"firing_rate\": 128.641766197116, \"i_spike\": 57.0, \"isi\": 0.06023056266521479}, {\"mouse_code\": 2, \"mouse\": \"m2bayes\", \"neuron_x_mouse\": \"m2bayes6\", \"neuron\": \"6\", \"neuron_code\": 22, \"stim\": 0, \"i_trial\": 1, \"log_firing_rate\": 2.208480706165076, \"Firing rate\": 161.6146426080822, \"firing_rate\": 161.6146426080822, \"i_spike\": 73.0, \"isi\": 0.04807845366550131}, {\"mouse_code\": 2, \"mouse\": \"m2bayes\", \"neuron_x_mouse\": \"m2bayes6\", \"neuron\": \"6\", \"neuron_code\": 22, \"stim\": 1, \"i_trial\": 0, \"log_firing_rate\": 2.5321088600147013, \"Firing rate\": 340.49352692445484, \"firing_rate\": 340.49352692445484, \"i_spike\": 70.5, \"isi\": 0.04947186915494997}, {\"mouse_code\": 2, \"mouse\": \"m2bayes\", \"neuron_x_mouse\": \"m2bayes6\", \"neuron\": \"6\", \"neuron_code\": 22, \"stim\": 1, \"i_trial\": 1, \"log_firing_rate\": 1.670968530157766, \"Firing rate\": 46.87794122256195, \"firing_rate\": 46.87794122256195, \"i_spike\": 52.5, \"isi\": 0.0649123044335491}, {\"mouse_code\": 2, \"mouse\": \"m2bayes\", \"neuron_x_mouse\": \"m2bayes7\", \"neuron\": \"7\", \"neuron_code\": 23, \"stim\": 0, \"i_trial\": 0, \"log_firing_rate\": 2.2723755037876967, \"Firing rate\": 187.23002866347792, \"firing_rate\": 187.23002866347792, \"i_spike\": 76.5, \"isi\": 0.04574647452801981}, {\"mouse_code\": 2, \"mouse\": \"m2bayes\", \"neuron_x_mouse\": \"m2bayes7\", \"neuron\": \"7\", \"neuron_code\": 23, \"stim\": 0, \"i_trial\": 1, \"log_firing_rate\": 2.0639155296901097, \"Firing rate\": 115.85519957878917, \"firing_rate\": 115.85519957878917, \"i_spike\": 65.0, \"isi\": 0.05382848699393191}, {\"mouse_code\": 2, \"mouse\": \"m2bayes\", \"neuron_x_mouse\": \"m2bayes7\", \"neuron\": \"7\", \"neuron_code\": 23, \"stim\": 1, \"i_trial\": 0, \"log_firing_rate\": 1.8707536467514145, \"Firing rate\": 74.25977803163126, \"firing_rate\": 74.25977803163126, \"i_spike\": 69.5, \"isi\": 0.05015392799327465}, {\"mouse_code\": 2, \"mouse\": \"m2bayes\", \"neuron_x_mouse\": \"m2bayes7\", \"neuron\": \"7\", \"neuron_code\": 23, \"stim\": 1, \"i_trial\": 1, \"log_firing_rate\": 2.237759965069885, \"Firing rate\": 172.88605524017171, \"firing_rate\": 172.88605524017171, \"i_spike\": 73.5, \"isi\": 0.04697723380066386}, {\"mouse_code\": 3, \"mouse\": \"m3bayes\", \"neuron_x_mouse\": \"m3bayes0\", \"neuron\": \"0\", \"neuron_code\": 24, \"stim\": 0, \"i_trial\": 0, \"log_firing_rate\": 1.6472508106083692, \"Firing rate\": 44.386490757793744, \"firing_rate\": 44.386490757793744, \"i_spike\": 48.0, \"isi\": 0.07152213673408063}, {\"mouse_code\": 3, \"mouse\": \"m3bayes\", \"neuron_x_mouse\": \"m3bayes0\", \"neuron\": \"0\", \"neuron_code\": 24, \"stim\": 0, \"i_trial\": 1, \"log_firing_rate\": 1.6494751934827874, \"Firing rate\": 44.614414049391215, \"firing_rate\": 44.614414049391215, \"i_spike\": 45.0, \"isi\": 0.07368453417273413}, {\"mouse_code\": 3, \"mouse\": \"m3bayes\", \"neuron_x_mouse\": \"m3bayes0\", \"neuron\": \"0\", \"neuron_code\": 24, \"stim\": 1, \"i_trial\": 0, \"log_firing_rate\": 2.166586527291303, \"Firing rate\": 146.75284429416433, \"firing_rate\": 146.75284429416433, \"i_spike\": 46.0, \"isi\": 0.07645467524350516}, {\"mouse_code\": 3, \"mouse\": \"m3bayes\", \"neuron_x_mouse\": \"m3bayes0\", \"neuron\": \"0\", \"neuron_code\": 24, \"stim\": 1, \"i_trial\": 1, \"log_firing_rate\": 2.1531878265978266, \"Firing rate\": 142.29440584794878, \"firing_rate\": 142.29440584794878, \"i_spike\": 63.5, \"isi\": 0.05478274622249258}, {\"mouse_code\": 3, \"mouse\": \"m3bayes\", \"neuron_x_mouse\": \"m3bayes1\", \"neuron\": \"1\", \"neuron_code\": 25, \"stim\": 0, \"i_trial\": 0, \"log_firing_rate\": 1.682551425737031, \"Firing rate\": 48.145026017840365, \"firing_rate\": 48.145026017840365, \"i_spike\": 42.0, \"isi\": 0.08299847545503218}, {\"mouse_code\": 3, \"mouse\": \"m3bayes\", \"neuron_x_mouse\": \"m3bayes1\", \"neuron\": \"1\", \"neuron_code\": 25, \"stim\": 0, \"i_trial\": 1, \"log_firing_rate\": 1.7814412461241305, \"Firing rate\": 60.45625570836639, \"firing_rate\": 60.45625570836639, \"i_spike\": 41.0, \"isi\": 0.08300855724483833}, {\"mouse_code\": 3, \"mouse\": \"m3bayes\", \"neuron_x_mouse\": \"m3bayes1\", \"neuron\": \"1\", \"neuron_code\": 25, \"stim\": 1, \"i_trial\": 0, \"log_firing_rate\": 1.874308553257329, \"Firing rate\": 74.87012414646486, \"firing_rate\": 74.87012414646486, \"i_spike\": 52.5, \"isi\": 0.06496766853095547}, {\"mouse_code\": 3, \"mouse\": \"m3bayes\", \"neuron_x_mouse\": \"m3bayes1\", \"neuron\": \"1\", \"neuron_code\": 25, \"stim\": 1, \"i_trial\": 1, \"log_firing_rate\": 2.1576002470781237, \"Firing rate\": 143.74748236800107, \"firing_rate\": 143.74748236800107, \"i_spike\": 70.0, \"isi\": 0.04930588040999068}, {\"mouse_code\": 3, \"mouse\": \"m3bayes\", \"neuron_x_mouse\": \"m3bayes2\", \"neuron\": \"2\", \"neuron_code\": 26, \"stim\": 0, \"i_trial\": 0, \"log_firing_rate\": 1.8053350748653416, \"Firing rate\": 63.87561209919552, \"firing_rate\": 63.87561209919552, \"i_spike\": 49.5, \"isi\": 0.0697735430110922}, {\"mouse_code\": 3, \"mouse\": \"m3bayes\", \"neuron_x_mouse\": \"m3bayes2\", \"neuron\": \"2\", \"neuron_code\": 26, \"stim\": 0, \"i_trial\": 1, \"log_firing_rate\": 1.7565788560028968, \"Firing rate\": 57.092473108136815, \"firing_rate\": 57.092473108136815, \"i_spike\": 43.0, \"isi\": 0.08130333648128954}, {\"mouse_code\": 3, \"mouse\": \"m3bayes\", \"neuron_x_mouse\": \"m3bayes2\", \"neuron\": \"2\", \"neuron_code\": 26, \"stim\": 1, \"i_trial\": 0, \"log_firing_rate\": 2.129135388263887, \"Firing rate\": 134.62799820025091, \"firing_rate\": 134.62799820025091, \"i_spike\": 63.0, \"isi\": 0.05540552033739925}, {\"mouse_code\": 3, \"mouse\": \"m3bayes\", \"neuron_x_mouse\": \"m3bayes2\", \"neuron\": \"2\", \"neuron_code\": 26, \"stim\": 1, \"i_trial\": 1, \"log_firing_rate\": 1.867834985209349, \"Firing rate\": 73.76239088561275, \"firing_rate\": 73.76239088561275, \"i_spike\": 46.5, \"isi\": 0.07267855579018208}, {\"mouse_code\": 3, \"mouse\": \"m3bayes\", \"neuron_x_mouse\": \"m3bayes3\", \"neuron\": \"3\", \"neuron_code\": 27, \"stim\": 0, \"i_trial\": 0, \"log_firing_rate\": 2.383180865408502, \"Firing rate\": 241.64669819118575, \"firing_rate\": 241.64669819118575, \"i_spike\": 40.5, \"isi\": 0.08575249537957266}, {\"mouse_code\": 3, \"mouse\": \"m3bayes\", \"neuron_x_mouse\": \"m3bayes3\", \"neuron\": \"3\", \"neuron_code\": 27, \"stim\": 0, \"i_trial\": 1, \"log_firing_rate\": 2.1061364302521293, \"Firing rate\": 127.68398551791144, \"firing_rate\": 127.68398551791144, \"i_spike\": 62.0, \"isi\": 0.056389089587666814}, {\"mouse_code\": 3, \"mouse\": \"m3bayes\", \"neuron_x_mouse\": \"m3bayes3\", \"neuron\": \"3\", \"neuron_code\": 27, \"stim\": 1, \"i_trial\": 0, \"log_firing_rate\": 1.7212409471073375, \"Firing rate\": 52.63091823807405, \"firing_rate\": 52.63091823807405, \"i_spike\": 64.0, \"isi\": 0.05438357211740606}, {\"mouse_code\": 3, \"mouse\": \"m3bayes\", \"neuron_x_mouse\": \"m3bayes3\", \"neuron\": \"3\", \"neuron_code\": 27, \"stim\": 1, \"i_trial\": 1, \"log_firing_rate\": 2.062003079379008, \"Firing rate\": 115.34614364475532, \"firing_rate\": 115.34614364475532, \"i_spike\": 57.5, \"isi\": 0.060075887645441355}, {\"mouse_code\": 3, \"mouse\": \"m3bayes\", \"neuron_x_mouse\": \"m3bayes4\", \"neuron\": \"4\", \"neuron_code\": 28, \"stim\": 0, \"i_trial\": 0, \"log_firing_rate\": 2.143718943533745, \"Firing rate\": 139.22555042350763, \"firing_rate\": 139.22555042350763, \"i_spike\": 51.5, \"isi\": 0.06605770805722741}, {\"mouse_code\": 3, \"mouse\": \"m3bayes\", \"neuron_x_mouse\": \"m3bayes4\", \"neuron\": \"4\", \"neuron_code\": 28, \"stim\": 0, \"i_trial\": 1, \"log_firing_rate\": 2.1941032659507838, \"Firing rate\": 156.35193699524586, \"firing_rate\": 156.35193699524586, \"i_spike\": 52.5, \"isi\": 0.06719967000971862}, {\"mouse_code\": 3, \"mouse\": \"m3bayes\", \"neuron_x_mouse\": \"m3bayes4\", \"neuron\": \"4\", \"neuron_code\": 28, \"stim\": 1, \"i_trial\": 0, \"log_firing_rate\": 2.1258369441566747, \"Firing rate\": 133.60937860142624, \"firing_rate\": 133.60937860142624, \"i_spike\": 61.0, \"isi\": 0.05653000074248825}, {\"mouse_code\": 3, \"mouse\": \"m3bayes\", \"neuron_x_mouse\": \"m3bayes4\", \"neuron\": \"4\", \"neuron_code\": 28, \"stim\": 1, \"i_trial\": 1, \"log_firing_rate\": 1.818138147423778, \"Firing rate\": 65.78670690896254, \"firing_rate\": 65.78670690896254, \"i_spike\": 53.0, \"isi\": 0.062199180082434996}, {\"mouse_code\": 3, \"mouse\": \"m3bayes\", \"neuron_x_mouse\": \"m3bayes5\", \"neuron\": \"5\", \"neuron_code\": 29, \"stim\": 0, \"i_trial\": 0, \"log_firing_rate\": 2.035950076486938, \"Firing rate\": 108.63007427614099, \"firing_rate\": 108.63007427614099, \"i_spike\": 74.5, \"isi\": 0.04620193238333041}, {\"mouse_code\": 3, \"mouse\": \"m3bayes\", \"neuron_x_mouse\": \"m3bayes5\", \"neuron\": \"5\", \"neuron_code\": 29, \"stim\": 0, \"i_trial\": 1, \"log_firing_rate\": 1.9532613722518302, \"Firing rate\": 89.79690582907632, \"firing_rate\": 89.79690582907632, \"i_spike\": 42.5, \"isi\": 0.08080045779957075}, {\"mouse_code\": 3, \"mouse\": \"m3bayes\", \"neuron_x_mouse\": \"m3bayes5\", \"neuron\": \"5\", \"neuron_code\": 29, \"stim\": 1, \"i_trial\": 0, \"log_firing_rate\": 2.7273203846744054, \"Firing rate\": 533.7284887217753, \"firing_rate\": 533.7284887217753, \"i_spike\": 72.0, \"isi\": 0.048432573608284735}, {\"mouse_code\": 3, \"mouse\": \"m3bayes\", \"neuron_x_mouse\": \"m3bayes5\", \"neuron\": \"5\", \"neuron_code\": 29, \"stim\": 1, \"i_trial\": 1, \"log_firing_rate\": 2.719140397551265, \"Firing rate\": 523.7697320889134, \"firing_rate\": 523.7697320889134, \"i_spike\": 57.0, \"isi\": 0.0599143497005188}, {\"mouse_code\": 3, \"mouse\": \"m3bayes\", \"neuron_x_mouse\": \"m3bayes6\", \"neuron\": \"6\", \"neuron_code\": 30, \"stim\": 0, \"i_trial\": 0, \"log_firing_rate\": 2.1553555797953736, \"Firing rate\": 143.00643484139562, \"firing_rate\": 143.00643484139562, \"i_spike\": 74.0, \"isi\": 0.04714997531209319}, {\"mouse_code\": 3, \"mouse\": \"m3bayes\", \"neuron_x_mouse\": \"m3bayes6\", \"neuron\": \"6\", \"neuron_code\": 30, \"stim\": 0, \"i_trial\": 1, \"log_firing_rate\": 2.0560185047063513, \"Firing rate\": 113.7675759631486, \"firing_rate\": 113.7675759631486, \"i_spike\": 67.0, \"isi\": 0.051499801054743256}, {\"mouse_code\": 3, \"mouse\": \"m3bayes\", \"neuron_x_mouse\": \"m3bayes6\", \"neuron\": \"6\", \"neuron_code\": 30, \"stim\": 1, \"i_trial\": 0, \"log_firing_rate\": 1.7351945214707531, \"Firing rate\": 54.34937090327542, \"firing_rate\": 54.34937090327542, \"i_spike\": 58.5, \"isi\": 0.059630520658372266}, {\"mouse_code\": 3, \"mouse\": \"m3bayes\", \"neuron_x_mouse\": \"m3bayes6\", \"neuron\": \"6\", \"neuron_code\": 30, \"stim\": 1, \"i_trial\": 1, \"log_firing_rate\": 1.7423144829345345, \"Firing rate\": 55.24773564254638, \"firing_rate\": 55.24773564254638, \"i_spike\": 53.0, \"isi\": 0.0649644075099198}, {\"mouse_code\": 3, \"mouse\": \"m3bayes\", \"neuron_x_mouse\": \"m3bayes7\", \"neuron\": \"7\", \"neuron_code\": 31, \"stim\": 0, \"i_trial\": 0, \"log_firing_rate\": 3.3205117103967767, \"Firing rate\": 2091.759308927522, \"firing_rate\": 2091.759308927522, \"i_spike\": 75.5, \"isi\": 0.04647073070681111}, {\"mouse_code\": 3, \"mouse\": \"m3bayes\", \"neuron_x_mouse\": \"m3bayes7\", \"neuron\": \"7\", \"neuron_code\": 31, \"stim\": 0, \"i_trial\": 1, \"log_firing_rate\": 2.0423512494154092, \"Firing rate\": 110.24305747122644, \"firing_rate\": 110.24305747122644, \"i_spike\": 65.5, \"isi\": 0.05310899279672403}, {\"mouse_code\": 3, \"mouse\": \"m3bayes\", \"neuron_x_mouse\": \"m3bayes7\", \"neuron\": \"7\", \"neuron_code\": 31, \"stim\": 1, \"i_trial\": 0, \"log_firing_rate\": 2.153209395464731, \"Firing rate\": 142.30147295435464, \"firing_rate\": 142.30147295435464, \"i_spike\": 77.0, \"isi\": 0.04525811545283287}, {\"mouse_code\": 3, \"mouse\": \"m3bayes\", \"neuron_x_mouse\": \"m3bayes7\", \"neuron\": \"7\", \"neuron_code\": 31, \"stim\": 1, \"i_trial\": 1, \"log_firing_rate\": 2.0393013641551367, \"Firing rate\": 109.47157442085674, \"firing_rate\": 109.47157442085674, \"i_spike\": 69.0, \"isi\": 0.050424126222942546}]}}, {\"mode\": \"vega-lite\"});\n",
       "</script>"
      ],
      "text/plain": [
       "alt.LayerChart(...)"
      ]
     },
     "execution_count": 6,
     "metadata": {},
     "output_type": "execute_result"
    }
   ],
   "source": [
    "import altair as alt\n",
    "y='isi'\n",
    "color='mouse'\n",
    "x='neuron'\n",
    "\n",
    "base=alt.Chart(df).encode(\n",
    "            x=x,\n",
    "            color=f'{color}',\n",
    "            y=alt.Y(f'mean({y})',\n",
    "                    scale=alt.Scale(zero=False,\n",
    "                                    domain=list(np.quantile(df[y], [.05, .95])))),\n",
    ")\n",
    "\n",
    "# Create a selection that chooses the nearest point & selects based on x-value\n",
    "nearest = alt.selection(type='single', nearest=True, on='mouseover',\n",
    "                        fields=[x], empty='none')\n",
    "\n",
    "\n",
    "# Transparent selectors across the chart. This is what tells us\n",
    "# the x-value of the cursor\n",
    "selectors = alt.Chart(df).mark_point().encode(\n",
    "    x=x,\n",
    "    opacity=alt.value(0),\n",
    ").add_selection(\n",
    "    nearest\n",
    ")\n",
    "\n",
    "highlight = alt.selection(type='single', on='mouseover',\n",
    "                          fields=[color], nearest=True)\n",
    "\n",
    "lines=base.mark_line(clip=True, fill=None, opacity=.6, ).encode(\n",
    "            #tooltip=color,\n",
    "            size=alt.condition(~highlight, alt.value(1), alt.value(3))\n",
    "        )\n",
    "\n",
    "# Draw text labels near the points, and highlight based on selection\n",
    "text = lines.mark_text(align='left', dx=5, dy=-5).encode(\n",
    "    text=alt.condition(nearest, y, alt.value(' '))\n",
    ")\n",
    "\n",
    "points = base.mark_circle().encode(\n",
    "    opacity=alt.value(0)\n",
    ").add_selection(\n",
    "    highlight\n",
    ")\n",
    "\n",
    "alt.layer(\n",
    "    lines, selectors, points, text\n",
    ")"
   ]
  }
 ],
 "metadata": {
  "hide_code_all_hidden": false,
  "hide_input": false,
  "jupytext": {
   "formats": "ipynb,py:light"
  },
  "kernelspec": {
   "display_name": "Python 3",
   "language": "python",
   "name": "jb1"
  },
  "language_info": {
   "codemirror_mode": {
    "name": "ipython",
    "version": 3
   },
   "file_extension": ".py",
   "mimetype": "text/x-python",
   "name": "python",
   "nbconvert_exporter": "python",
   "pygments_lexer": "ipython3",
   "version": "3.9.2"
  }
 },
 "nbformat": 4,
 "nbformat_minor": 4
}